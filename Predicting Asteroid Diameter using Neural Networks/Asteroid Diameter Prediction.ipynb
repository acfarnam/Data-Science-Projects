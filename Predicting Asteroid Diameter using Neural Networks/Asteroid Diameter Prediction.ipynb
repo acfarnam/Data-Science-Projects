{
 "cells": [
  {
   "cell_type": "markdown",
   "metadata": {},
   "source": [
    "# Predicting the Diameter of Asteroids using a Neural Network"
   ]
  },
  {
   "cell_type": "markdown",
   "metadata": {},
   "source": [
    "## Introduction"
   ]
  },
  {
   "cell_type": "markdown",
   "metadata": {},
   "source": [
    "The dataset we'll be looking at contains 27 features on asteroids. The task is to predict the asteroid's diameter based on the other features provided. The features in the dataset include:\n",
    "\n",
    "- full_name: asteroid's name\n",
    "- a: semi-major axis\n",
    "- e: eccentricity\n",
    "- G: magnitide slope parameter\n",
    "- i: inclination\n",
    "- om: longitude of ascending node\n",
    "- w: argument of perihelion\n",
    "- q: perihelion distance\n",
    "- ad: aphelion distance\n",
    "- per_y: orbital period\n",
    "- data_arc: data arc-span\n",
    "- condition_code: orbit condition code\n",
    "- n_obs_used: number of observations used\n",
    "- H: absolute magnitude parameter\n",
    "- diameter: diameter\n",
    "- extent: axial ellipsoid dimensions\n",
    "- albedo: geometric albedo\n",
    "- rot_per: rotation period\n",
    "- GM: gravitational parameter\n",
    "- BV: B-V magnitude difference\n",
    "- UB: U-B magnitude difference\n",
    "- IR: I-R magnitude difference\n",
    "- spec_B: SMASSII\n",
    "- spec_T: Tholen\n",
    "- neo: near earth object\n",
    "- pha: physically hazardous asteroid\n",
    "- moid: earth minimum orbit intersection distance"
   ]
  },
  {
   "cell_type": "markdown",
   "metadata": {},
   "source": [
    "## Preparing the Data"
   ]
  },
  {
   "cell_type": "code",
   "execution_count": 50,
   "metadata": {},
   "outputs": [
    {
     "name": "stderr",
     "output_type": "stream",
     "text": [
      "/Users/cain/anaconda3/lib/python3.7/site-packages/IPython/core/interactiveshell.py:3057: DtypeWarning: Columns (11,14,15,22,23) have mixed types. Specify dtype option on import or set low_memory=False.\n",
      "  interactivity=interactivity, compiler=compiler, result=result)\n"
     ]
    }
   ],
   "source": [
    "import pandas as pd\n",
    "\n",
    "asteroid = pd.read_csv('/Users/cain/Documents/Deep Learning/Data Sets/asteroid-diameter/Asteroid.csv')"
   ]
  },
  {
   "cell_type": "markdown",
   "metadata": {},
   "source": [
    "While loading the data we get a data type warning. It appears multiple columns have mixed data types. We'll need to sort this out before we can build our model."
   ]
  },
  {
   "cell_type": "code",
   "execution_count": 2,
   "metadata": {},
   "outputs": [
    {
     "name": "stdout",
     "output_type": "stream",
     "text": [
      "<class 'pandas.core.frame.DataFrame'>\n",
      "RangeIndex: 839736 entries, 0 to 839735\n",
      "Data columns (total 27 columns):\n",
      "full_name         839736 non-null object\n",
      "a                 839734 non-null float64\n",
      "e                 839736 non-null float64\n",
      "G                 119 non-null float64\n",
      "i                 839736 non-null float64\n",
      "om                839736 non-null float64\n",
      "w                 839736 non-null float64\n",
      "q                 839736 non-null float64\n",
      "ad                839730 non-null float64\n",
      "per_y             839735 non-null float64\n",
      "data_arc          823947 non-null float64\n",
      "condition_code    838743 non-null object\n",
      "n_obs_used        839736 non-null int64\n",
      "H                 837042 non-null float64\n",
      "diameter          137681 non-null object\n",
      "extent            18 non-null object\n",
      "albedo            136452 non-null float64\n",
      "rot_per           18796 non-null float64\n",
      "GM                14 non-null float64\n",
      "BV                1021 non-null float64\n",
      "UB                979 non-null float64\n",
      "IR                1 non-null float64\n",
      "spec_B            1666 non-null object\n",
      "spec_T            980 non-null object\n",
      "neo               839730 non-null object\n",
      "pha               822814 non-null object\n",
      "moid              822814 non-null float64\n",
      "dtypes: float64(18), int64(1), object(8)\n",
      "memory usage: 173.0+ MB\n"
     ]
    }
   ],
   "source": [
    "asteroid.info()"
   ]
  },
  {
   "cell_type": "markdown",
   "metadata": {},
   "source": [
    "There are quite a few columns with mixed data types (these are likely full of NA's). Since we will ultimately be predicting the diameter, we need to drop the observations that contain missing values and store the remaining values as numerics."
   ]
  },
  {
   "cell_type": "code",
   "execution_count": 51,
   "metadata": {},
   "outputs": [],
   "source": [
    "asteroid['diameter'] = pd.to_numeric(asteroid['diameter'], errors = 'coerce') \n",
    "drop = asteroid['diameter'][asteroid['diameter'].isnull()].index\n",
    "asteroid = asteroid.drop(drop, axis = 0) "
   ]
  },
  {
   "cell_type": "code",
   "execution_count": 52,
   "metadata": {},
   "outputs": [
    {
     "name": "stdout",
     "output_type": "stream",
     "text": [
      "<class 'pandas.core.frame.DataFrame'>\n",
      "Int64Index: 137680 entries, 0 to 810411\n",
      "Data columns (total 27 columns):\n",
      "full_name         137680 non-null object\n",
      "a                 137680 non-null float64\n",
      "e                 137680 non-null float64\n",
      "G                 118 non-null float64\n",
      "i                 137680 non-null float64\n",
      "om                137680 non-null float64\n",
      "w                 137680 non-null float64\n",
      "q                 137680 non-null float64\n",
      "ad                137680 non-null float64\n",
      "per_y             137680 non-null float64\n",
      "data_arc          137540 non-null float64\n",
      "condition_code    137680 non-null object\n",
      "n_obs_used        137680 non-null int64\n",
      "H                 136929 non-null float64\n",
      "diameter          137680 non-null float64\n",
      "extent            15 non-null object\n",
      "albedo            136448 non-null float64\n",
      "rot_per           11187 non-null float64\n",
      "GM                13 non-null float64\n",
      "BV                1004 non-null float64\n",
      "UB                964 non-null float64\n",
      "IR                1 non-null float64\n",
      "spec_B            1369 non-null object\n",
      "spec_T            964 non-null object\n",
      "neo               137680 non-null object\n",
      "pha               137680 non-null object\n",
      "moid              137680 non-null float64\n",
      "dtypes: float64(19), int64(1), object(7)\n",
      "memory usage: 29.4+ MB\n"
     ]
    }
   ],
   "source": [
    "asteroid.info()"
   ]
  },
  {
   "cell_type": "markdown",
   "metadata": {},
   "source": [
    "You can see that this has reduced our observations from 839,736 asteroids down to 137,680.\n",
    "\n",
    "Let's go ahead and drop all of the features that are lacking sufficient data. If the feature is missing at least half of the data, we will drop it."
   ]
  },
  {
   "cell_type": "code",
   "execution_count": 53,
   "metadata": {},
   "outputs": [],
   "source": [
    "smallFeatures = asteroid.columns[asteroid.isna().sum()/asteroid.shape[0] > 0.5]\n",
    "asteroid = asteroid.drop(smallFeatures, axis = 1)"
   ]
  },
  {
   "cell_type": "code",
   "execution_count": 54,
   "metadata": {},
   "outputs": [
    {
     "name": "stdout",
     "output_type": "stream",
     "text": [
      "<class 'pandas.core.frame.DataFrame'>\n",
      "Int64Index: 137680 entries, 0 to 810411\n",
      "Data columns (total 18 columns):\n",
      "full_name         137680 non-null object\n",
      "a                 137680 non-null float64\n",
      "e                 137680 non-null float64\n",
      "i                 137680 non-null float64\n",
      "om                137680 non-null float64\n",
      "w                 137680 non-null float64\n",
      "q                 137680 non-null float64\n",
      "ad                137680 non-null float64\n",
      "per_y             137680 non-null float64\n",
      "data_arc          137540 non-null float64\n",
      "condition_code    137680 non-null object\n",
      "n_obs_used        137680 non-null int64\n",
      "H                 136929 non-null float64\n",
      "diameter          137680 non-null float64\n",
      "albedo            136448 non-null float64\n",
      "neo               137680 non-null object\n",
      "pha               137680 non-null object\n",
      "moid              137680 non-null float64\n",
      "dtypes: float64(13), int64(1), object(4)\n",
      "memory usage: 20.0+ MB\n"
     ]
    }
   ],
   "source": [
    "asteroid.info()"
   ]
  },
  {
   "cell_type": "markdown",
   "metadata": {},
   "source": [
    "Let's now look at the features that are of the object type. We can drop the asteroid name and the condition code, as these do not have anything to do with the diameter."
   ]
  },
  {
   "cell_type": "code",
   "execution_count": 55,
   "metadata": {},
   "outputs": [],
   "source": [
    "asteroid = asteroid.drop(['condition_code', 'full_name'], axis = 1)"
   ]
  },
  {
   "cell_type": "markdown",
   "metadata": {},
   "source": [
    "The only other two features of object type are neo and pha. Let's figure out what is stored in these features."
   ]
  },
  {
   "cell_type": "code",
   "execution_count": 56,
   "metadata": {},
   "outputs": [
    {
     "data": {
      "text/plain": [
       "array(['N', 'Y'], dtype=object)"
      ]
     },
     "execution_count": 56,
     "metadata": {},
     "output_type": "execute_result"
    }
   ],
   "source": [
    "asteroid.neo.unique()"
   ]
  },
  {
   "cell_type": "code",
   "execution_count": 57,
   "metadata": {},
   "outputs": [
    {
     "data": {
      "text/plain": [
       "array(['N', 'Y'], dtype=object)"
      ]
     },
     "execution_count": 57,
     "metadata": {},
     "output_type": "execute_result"
    }
   ],
   "source": [
    "asteroid.pha.unique()"
   ]
  },
  {
   "cell_type": "markdown",
   "metadata": {},
   "source": [
    "The asteroids are indicated to be near earth objects and physically hazardous asteroids with a \"N\" for no and \"Y\" for yes. We can create a dummy variable for each of these features."
   ]
  },
  {
   "cell_type": "code",
   "execution_count": 58,
   "metadata": {},
   "outputs": [],
   "source": [
    "asteroid = pd.get_dummies(asteroid, columns = ['neo', 'pha'])"
   ]
  },
  {
   "cell_type": "markdown",
   "metadata": {},
   "source": [
    "There are still some remaining features with missing values. Let's apply the column mean to the remaining NA's."
   ]
  },
  {
   "cell_type": "code",
   "execution_count": 59,
   "metadata": {},
   "outputs": [],
   "source": [
    "asteroid = asteroid.fillna(asteroid.mean())"
   ]
  },
  {
   "cell_type": "code",
   "execution_count": 60,
   "metadata": {},
   "outputs": [
    {
     "name": "stdout",
     "output_type": "stream",
     "text": [
      "<class 'pandas.core.frame.DataFrame'>\n",
      "Int64Index: 137680 entries, 0 to 810411\n",
      "Data columns (total 18 columns):\n",
      "a             137680 non-null float64\n",
      "e             137680 non-null float64\n",
      "i             137680 non-null float64\n",
      "om            137680 non-null float64\n",
      "w             137680 non-null float64\n",
      "q             137680 non-null float64\n",
      "ad            137680 non-null float64\n",
      "per_y         137680 non-null float64\n",
      "data_arc      137680 non-null float64\n",
      "n_obs_used    137680 non-null int64\n",
      "H             137680 non-null float64\n",
      "diameter      137680 non-null float64\n",
      "albedo        137680 non-null float64\n",
      "moid          137680 non-null float64\n",
      "neo_N         137680 non-null uint8\n",
      "neo_Y         137680 non-null uint8\n",
      "pha_N         137680 non-null uint8\n",
      "pha_Y         137680 non-null uint8\n",
      "dtypes: float64(13), int64(1), uint8(4)\n",
      "memory usage: 16.3 MB\n"
     ]
    }
   ],
   "source": [
    "asteroid.info()"
   ]
  },
  {
   "cell_type": "markdown",
   "metadata": {},
   "source": [
    "Now we'll begin subsetting the data into train and test sets."
   ]
  },
  {
   "cell_type": "markdown",
   "metadata": {},
   "source": [
    "### Splitting Data into Train and Test Sets"
   ]
  },
  {
   "cell_type": "markdown",
   "metadata": {},
   "source": [
    "We'll use sklearn to split the data into train and test sets. The training set will be used to actually develop the model. We'll save the test set later to check the performance of the model."
   ]
  },
  {
   "cell_type": "code",
   "execution_count": 13,
   "metadata": {},
   "outputs": [],
   "source": [
    "from sklearn.model_selection import train_test_split\n",
    "predictors = asteroid.drop('diameter', axis = 1) \n",
    "target = asteroid['diameter']\n",
    "X_train, X_test, Y_train, Y_test = train_test_split(predictors, target, \n",
    "                                                    test_size = 0.20, \n",
    "                                                    random_state = 1)"
   ]
  },
  {
   "cell_type": "markdown",
   "metadata": {},
   "source": [
    "### Pre-processing"
   ]
  },
  {
   "cell_type": "markdown",
   "metadata": {},
   "source": [
    "Next we are going to normalize the data using sklearn. This will give all of the features a mean of zero and a standard deviation of one."
   ]
  },
  {
   "cell_type": "code",
   "execution_count": 14,
   "metadata": {},
   "outputs": [],
   "source": [
    "from sklearn import preprocessing\n",
    "\n",
    "std_scaler = preprocessing.StandardScaler().fit(X_train)\n",
    "\n",
    "def scaler(X):\n",
    "    x_norm_arr = std_scaler.fit_transform(X)\n",
    "    return pd.DataFrame(x_norm_arr, columns = X.columns, index = X.index)\n",
    "\n",
    "X_train = scaler(X_train)\n",
    "X_test = scaler(X_test)"
   ]
  },
  {
   "cell_type": "markdown",
   "metadata": {},
   "source": [
    "### Getting a Validation Set"
   ]
  },
  {
   "cell_type": "markdown",
   "metadata": {},
   "source": [
    "We'll be using hold-out validation to evaluate the model during the training process. The following code subsets 25,000 observations for validation (roughly the same amount as the test set)."
   ]
  },
  {
   "cell_type": "code",
   "execution_count": 15,
   "metadata": {},
   "outputs": [],
   "source": [
    "X_val = X_train[:25000]\n",
    "partial_X_train = X_train[25000:]\n",
    "\n",
    "Y_val = Y_train[:25000]\n",
    "partial_Y_train = Y_train[25000:]"
   ]
  },
  {
   "cell_type": "markdown",
   "metadata": {},
   "source": [
    "### Defining and Fitting the Model"
   ]
  },
  {
   "cell_type": "markdown",
   "metadata": {},
   "source": [
    "Let's create the model now. We'll start with four hidden dense layers, all activated with the rectified linear unit function. The last layer will be a dense layer with one node. Our loss funtion will be the mean square error (mse). We'll use ADAM as our optimizer function. We'll also be measuring the mean absolute error (mae). We'll start off with a relatively small batch size of 64. Let's perform 50 epochs to get a good idea on how the model is doing."
   ]
  },
  {
   "cell_type": "code",
   "execution_count": 16,
   "metadata": {},
   "outputs": [
    {
     "name": "stderr",
     "output_type": "stream",
     "text": [
      "Using TensorFlow backend.\n"
     ]
    },
    {
     "name": "stdout",
     "output_type": "stream",
     "text": [
      "WARNING:tensorflow:From /Users/cain/anaconda3/lib/python3.7/site-packages/keras/backend/tensorflow_backend.py:422: The name tf.global_variables is deprecated. Please use tf.compat.v1.global_variables instead.\n",
      "\n",
      "Train on 85144 samples, validate on 25000 samples\n",
      "Epoch 1/50\n",
      "85144/85144 [==============================] - 6s 68us/step - loss: 29.6241 - mae: 1.2200 - val_loss: 25.0635 - val_mae: 0.8084\n",
      "Epoch 2/50\n",
      "85144/85144 [==============================] - 4s 51us/step - loss: 17.5706 - mae: 0.8093 - val_loss: 25.9462 - val_mae: 0.7368\n",
      "Epoch 3/50\n",
      "85144/85144 [==============================] - 5s 56us/step - loss: 12.2491 - mae: 0.8064 - val_loss: 21.7983 - val_mae: 0.6694\n",
      "Epoch 4/50\n",
      "85144/85144 [==============================] - 5s 58us/step - loss: 6.2273 - mae: 0.7246 - val_loss: 20.6225 - val_mae: 0.5951\n",
      "Epoch 5/50\n",
      "85144/85144 [==============================] - 5s 61us/step - loss: 5.8261 - mae: 0.6939 - val_loss: 36.2391 - val_mae: 0.8541\n",
      "Epoch 6/50\n",
      "85144/85144 [==============================] - 5s 62us/step - loss: 7.7952 - mae: 0.8246 - val_loss: 21.5609 - val_mae: 1.3925\n",
      "Epoch 7/50\n",
      "85144/85144 [==============================] - 5s 58us/step - loss: 7.6957 - mae: 0.7004 - val_loss: 15.4687 - val_mae: 0.6262\n",
      "Epoch 8/50\n",
      "85144/85144 [==============================] - 5s 58us/step - loss: 9.9209 - mae: 0.8018 - val_loss: 17.3983 - val_mae: 0.9805\n",
      "Epoch 9/50\n",
      "85144/85144 [==============================] - 5s 59us/step - loss: 14.6825 - mae: 0.7988 - val_loss: 23.3628 - val_mae: 1.2215\n",
      "Epoch 10/50\n",
      "85144/85144 [==============================] - 5s 57us/step - loss: 8.5009 - mae: 0.6894 - val_loss: 13.1342 - val_mae: 0.6179\n",
      "Epoch 11/50\n",
      "85144/85144 [==============================] - 5s 57us/step - loss: 3.8914 - mae: 0.6282 - val_loss: 16.0819 - val_mae: 0.5680\n",
      "Epoch 12/50\n",
      "85144/85144 [==============================] - 5s 57us/step - loss: 3.5261 - mae: 0.6495 - val_loss: 13.3757 - val_mae: 0.6089\n",
      "Epoch 13/50\n",
      "85144/85144 [==============================] - 4s 51us/step - loss: 4.6478 - mae: 0.6519 - val_loss: 12.1594 - val_mae: 0.6770\n",
      "Epoch 14/50\n",
      "85144/85144 [==============================] - 5s 56us/step - loss: 10.7006 - mae: 0.7428 - val_loss: 9.2084 - val_mae: 0.6045\n",
      "Epoch 15/50\n",
      "85144/85144 [==============================] - 5s 58us/step - loss: 7.4615 - mae: 0.6440 - val_loss: 16.0309 - val_mae: 0.6897\n",
      "Epoch 16/50\n",
      "85144/85144 [==============================] - 5s 57us/step - loss: 3.8767 - mae: 0.6729 - val_loss: 23.9751 - val_mae: 0.7476\n",
      "Epoch 17/50\n",
      "85144/85144 [==============================] - 5s 60us/step - loss: 3.7568 - mae: 0.6475 - val_loss: 10.2467 - val_mae: 0.7080\n",
      "Epoch 18/50\n",
      "85144/85144 [==============================] - 5s 58us/step - loss: 6.3716 - mae: 0.7364 - val_loss: 23.8238 - val_mae: 0.7832\n",
      "Epoch 19/50\n",
      "85144/85144 [==============================] - 5s 57us/step - loss: 9.5119 - mae: 0.6821 - val_loss: 13.0159 - val_mae: 0.7925\n",
      "Epoch 20/50\n",
      "85144/85144 [==============================] - 5s 56us/step - loss: 3.5558 - mae: 0.6211 - val_loss: 13.0014 - val_mae: 0.6004\n",
      "Epoch 21/50\n",
      "85144/85144 [==============================] - 5s 57us/step - loss: 4.5659 - mae: 0.6648 - val_loss: 18.7544 - val_mae: 0.6565\n",
      "Epoch 22/50\n",
      "85144/85144 [==============================] - 5s 56us/step - loss: 6.7545 - mae: 0.7040 - val_loss: 4.5789 - val_mae: 0.5602\n",
      "Epoch 23/50\n",
      "85144/85144 [==============================] - 5s 56us/step - loss: 6.1371 - mae: 0.6000 - val_loss: 20.6288 - val_mae: 0.8510\n",
      "Epoch 24/50\n",
      "85144/85144 [==============================] - 4s 50us/step - loss: 3.2099 - mae: 0.5769 - val_loss: 10.2705 - val_mae: 0.5303\n",
      "Epoch 25/50\n",
      "85144/85144 [==============================] - 5s 55us/step - loss: 2.7470 - mae: 0.5765 - val_loss: 5.1323 - val_mae: 0.5764\n",
      "Epoch 26/50\n",
      "85144/85144 [==============================] - 5s 57us/step - loss: 5.7315 - mae: 0.6644 - val_loss: 14.1978 - val_mae: 0.7142\n",
      "Epoch 27/50\n",
      "85144/85144 [==============================] - 5s 58us/step - loss: 4.6488 - mae: 0.6847 - val_loss: 16.8609 - val_mae: 0.8158\n",
      "Epoch 28/50\n",
      "85144/85144 [==============================] - 5s 61us/step - loss: 4.9013 - mae: 0.6246 - val_loss: 4.2152 - val_mae: 0.5913\n",
      "Epoch 29/50\n",
      "85144/85144 [==============================] - 5s 60us/step - loss: 4.7225 - mae: 0.5958 - val_loss: 22.8994 - val_mae: 1.0945\n",
      "Epoch 30/50\n",
      "85144/85144 [==============================] - 5s 57us/step - loss: 5.1878 - mae: 0.6788 - val_loss: 10.5699 - val_mae: 0.5369\n",
      "Epoch 31/50\n",
      "85144/85144 [==============================] - 5s 55us/step - loss: 3.5014 - mae: 0.5615 - val_loss: 9.4684 - val_mae: 0.5537\n",
      "Epoch 32/50\n",
      "85144/85144 [==============================] - 5s 56us/step - loss: 3.2316 - mae: 0.6014 - val_loss: 25.5062 - val_mae: 0.8258\n",
      "Epoch 33/50\n",
      "85144/85144 [==============================] - 5s 56us/step - loss: 4.0967 - mae: 0.6073 - val_loss: 6.1913 - val_mae: 0.5300\n",
      "Epoch 34/50\n",
      "85144/85144 [==============================] - 5s 55us/step - loss: 4.5543 - mae: 0.6314 - val_loss: 12.2579 - val_mae: 0.5757\n",
      "Epoch 35/50\n",
      "85144/85144 [==============================] - 4s 50us/step - loss: 4.4408 - mae: 0.6117 - val_loss: 13.7323 - val_mae: 0.5649\n",
      "Epoch 36/50\n",
      "85144/85144 [==============================] - 5s 53us/step - loss: 2.3466 - mae: 0.5458 - val_loss: 7.9226 - val_mae: 1.0255\n",
      "Epoch 37/50\n",
      "85144/85144 [==============================] - 5s 56us/step - loss: 4.3596 - mae: 0.6224 - val_loss: 9.9422 - val_mae: 0.5289\n",
      "Epoch 38/50\n",
      "85144/85144 [==============================] - 5s 56us/step - loss: 3.7938 - mae: 0.6088 - val_loss: 13.9791 - val_mae: 0.5526\n",
      "Epoch 39/50\n",
      "85144/85144 [==============================] - 5s 55us/step - loss: 4.2463 - mae: 0.5926 - val_loss: 9.9028 - val_mae: 0.7214\n",
      "Epoch 40/50\n",
      "85144/85144 [==============================] - 5s 56us/step - loss: 4.1943 - mae: 0.5792 - val_loss: 12.5263 - val_mae: 0.6003\n",
      "Epoch 41/50\n",
      "85144/85144 [==============================] - 5s 55us/step - loss: 2.8239 - mae: 0.5944 - val_loss: 13.6304 - val_mae: 0.5430\n",
      "Epoch 42/50\n",
      "85144/85144 [==============================] - 5s 56us/step - loss: 2.9613 - mae: 0.5341 - val_loss: 13.3420 - val_mae: 0.8072\n",
      "Epoch 43/50\n",
      "85144/85144 [==============================] - 5s 55us/step - loss: 4.1022 - mae: 0.6093 - val_loss: 18.3930 - val_mae: 0.6004\n",
      "Epoch 44/50\n",
      "85144/85144 [==============================] - 5s 55us/step - loss: 4.4806 - mae: 0.5887 - val_loss: 8.4414 - val_mae: 0.5445\n",
      "Epoch 45/50\n",
      "85144/85144 [==============================] - 5s 56us/step - loss: 1.9991 - mae: 0.5210 - val_loss: 6.9119 - val_mae: 0.7281\n",
      "Epoch 46/50\n",
      "85144/85144 [==============================] - 5s 55us/step - loss: 4.4923 - mae: 0.5996 - val_loss: 6.5649 - val_mae: 0.8130\n",
      "Epoch 47/50\n",
      "85144/85144 [==============================] - 4s 48us/step - loss: 1.8371 - mae: 0.5287 - val_loss: 5.8010 - val_mae: 0.5530\n",
      "Epoch 48/50\n",
      "85144/85144 [==============================] - 5s 54us/step - loss: 2.7120 - mae: 0.5646 - val_loss: 4.9433 - val_mae: 0.4904\n",
      "Epoch 49/50\n",
      "85144/85144 [==============================] - 5s 55us/step - loss: 5.4001 - mae: 0.5805 - val_loss: 11.9909 - val_mae: 0.5326\n",
      "Epoch 50/50\n",
      "85144/85144 [==============================] - 5s 54us/step - loss: 3.4749 - mae: 0.5303 - val_loss: 12.0130 - val_mae: 0.5190\n"
     ]
    }
   ],
   "source": [
    "from keras.models import Sequential\n",
    "from keras.layers import Dense\n",
    "from keras.optimizers import Adam\n",
    "\n",
    "model = Sequential()\n",
    "model.add(Dense(128, activation = 'relu', \n",
    "                input_dim = partial_X_train.shape[1]))\n",
    "model.add(Dense(128, activation = 'relu'))\n",
    "model.add(Dense(64, activation = 'relu'))\n",
    "model.add(Dense(64, activation = 'relu'))\n",
    "model.add(Dense(1))\n",
    "\n",
    "model.compile(loss = 'mean_squared_error', \n",
    "              optimizer = 'adam', \n",
    "              metrics = ['mae'])\n",
    "\n",
    "history = model.fit(partial_X_train, partial_Y_train, \n",
    "                    epochs = 50, \n",
    "                    batch_size = 64, \n",
    "                    validation_data = (X_val, Y_val))"
   ]
  },
  {
   "cell_type": "markdown",
   "metadata": {},
   "source": [
    "### Plotting the Performance"
   ]
  },
  {
   "cell_type": "markdown",
   "metadata": {},
   "source": [
    "Okay, the model is done training. Let's plot the train and validation loss (mse) over all the epochs."
   ]
  },
  {
   "cell_type": "code",
   "execution_count": 17,
   "metadata": {},
   "outputs": [
    {
     "data": {
      "text/plain": [
       "<Figure size 640x480 with 1 Axes>"
      ]
     },
     "metadata": {},
     "output_type": "display_data"
    }
   ],
   "source": [
    "import matplotlib.pyplot as plt\n",
    "\n",
    "plt.plot(history.history['loss'])\n",
    "plt.plot(history.history['val_loss'])\n",
    "plt.title('model loss')\n",
    "plt.ylabel('loss')\n",
    "plt.xlabel('epoch')\n",
    "plt.legend(['train', 'val'], loc = 'upper left')\n",
    "plt.savefig('asteroids_loss1.jpg')\n",
    "plt.show()"
   ]
  },
  {
   "cell_type": "markdown",
   "metadata": {},
   "source": [
    "The loss fluctuates quite a bit. Let's adjust the model slightly by increasing the batch size to reduce variability in batches, then plot the loss again."
   ]
  },
  {
   "cell_type": "code",
   "execution_count": 18,
   "metadata": {},
   "outputs": [
    {
     "name": "stdout",
     "output_type": "stream",
     "text": [
      "Train on 85144 samples, validate on 25000 samples\n",
      "Epoch 1/50\n",
      "85144/85144 [==============================] - 1s 11us/step - loss: 1.3372 - mae: 0.4668 - val_loss: 7.2457 - val_mae: 0.5041\n",
      "Epoch 2/50\n",
      "85144/85144 [==============================] - 1s 11us/step - loss: 1.0410 - mae: 0.4559 - val_loss: 8.6466 - val_mae: 0.4823\n",
      "Epoch 3/50\n",
      "85144/85144 [==============================] - 1s 11us/step - loss: 0.9729 - mae: 0.4457 - val_loss: 7.7628 - val_mae: 0.4826\n",
      "Epoch 4/50\n",
      "85144/85144 [==============================] - 1s 11us/step - loss: 0.9560 - mae: 0.4426 - val_loss: 8.3335 - val_mae: 0.4766\n",
      "Epoch 5/50\n",
      "85144/85144 [==============================] - 1s 11us/step - loss: 0.9477 - mae: 0.4405 - val_loss: 8.5770 - val_mae: 0.4870\n",
      "Epoch 6/50\n",
      "85144/85144 [==============================] - 1s 11us/step - loss: 0.9483 - mae: 0.4407 - val_loss: 7.4295 - val_mae: 0.4727\n",
      "Epoch 7/50\n",
      "85144/85144 [==============================] - 1s 11us/step - loss: 0.9386 - mae: 0.4382 - val_loss: 6.8482 - val_mae: 0.4738\n",
      "Epoch 8/50\n",
      "85144/85144 [==============================] - 1s 11us/step - loss: 0.9557 - mae: 0.4400 - val_loss: 7.3145 - val_mae: 0.4716\n",
      "Epoch 9/50\n",
      "85144/85144 [==============================] - 1s 11us/step - loss: 0.9198 - mae: 0.4376 - val_loss: 8.1673 - val_mae: 0.4654\n",
      "Epoch 10/50\n",
      "85144/85144 [==============================] - 1s 12us/step - loss: 0.9042 - mae: 0.4351 - val_loss: 7.0557 - val_mae: 0.4630\n",
      "Epoch 11/50\n",
      "85144/85144 [==============================] - 1s 11us/step - loss: 0.9066 - mae: 0.4361 - val_loss: 6.4846 - val_mae: 0.4708\n",
      "Epoch 12/50\n",
      "85144/85144 [==============================] - 1s 11us/step - loss: 0.8968 - mae: 0.4331 - val_loss: 7.1007 - val_mae: 0.4611\n",
      "Epoch 13/50\n",
      "85144/85144 [==============================] - 1s 11us/step - loss: 0.9155 - mae: 0.4363 - val_loss: 7.1667 - val_mae: 0.4624\n",
      "Epoch 14/50\n",
      "85144/85144 [==============================] - 1s 11us/step - loss: 0.9105 - mae: 0.4371 - val_loss: 6.1214 - val_mae: 0.4695\n",
      "Epoch 15/50\n",
      "85144/85144 [==============================] - 1s 11us/step - loss: 0.9138 - mae: 0.4377 - val_loss: 7.1932 - val_mae: 0.4659\n",
      "Epoch 16/50\n",
      "85144/85144 [==============================] - 1s 11us/step - loss: 0.8969 - mae: 0.4376 - val_loss: 8.3295 - val_mae: 0.4678\n",
      "Epoch 17/50\n",
      "85144/85144 [==============================] - 1s 11us/step - loss: 0.9072 - mae: 0.4322 - val_loss: 4.3929 - val_mae: 0.4667\n",
      "Epoch 18/50\n",
      "85144/85144 [==============================] - 1s 11us/step - loss: 0.8756 - mae: 0.4334 - val_loss: 6.2197 - val_mae: 0.4606\n",
      "Epoch 19/50\n",
      "85144/85144 [==============================] - 1s 11us/step - loss: 0.8623 - mae: 0.4280 - val_loss: 4.9577 - val_mae: 0.4736\n",
      "Epoch 20/50\n",
      "85144/85144 [==============================] - 1s 11us/step - loss: 0.8584 - mae: 0.4289 - val_loss: 5.5528 - val_mae: 0.4529\n",
      "Epoch 21/50\n",
      "85144/85144 [==============================] - 1s 11us/step - loss: 0.8358 - mae: 0.4275 - val_loss: 6.4147 - val_mae: 0.4628\n",
      "Epoch 22/50\n",
      "85144/85144 [==============================] - 1s 11us/step - loss: 0.8957 - mae: 0.4355 - val_loss: 5.8347 - val_mae: 0.4727\n",
      "Epoch 23/50\n",
      "85144/85144 [==============================] - 1s 11us/step - loss: 0.9177 - mae: 0.4460 - val_loss: 3.0138 - val_mae: 0.4586\n",
      "Epoch 24/50\n",
      "85144/85144 [==============================] - 1s 10us/step - loss: 1.1114 - mae: 0.4676 - val_loss: 5.7415 - val_mae: 0.4565\n",
      "Epoch 25/50\n",
      "85144/85144 [==============================] - 1s 10us/step - loss: 1.1248 - mae: 0.4720 - val_loss: 9.6938 - val_mae: 0.4841\n",
      "Epoch 26/50\n",
      "85144/85144 [==============================] - 1s 11us/step - loss: 1.0739 - mae: 0.4455 - val_loss: 4.9139 - val_mae: 0.4523\n",
      "Epoch 27/50\n",
      "85144/85144 [==============================] - 1s 11us/step - loss: 1.3009 - mae: 0.4541 - val_loss: 12.8215 - val_mae: 0.4896\n",
      "Epoch 28/50\n",
      "85144/85144 [==============================] - 1s 11us/step - loss: 1.4941 - mae: 0.4796 - val_loss: 9.8775 - val_mae: 0.4814\n",
      "Epoch 29/50\n",
      "85144/85144 [==============================] - 1s 11us/step - loss: 1.5886 - mae: 0.4557 - val_loss: 2.3728 - val_mae: 0.4841\n",
      "Epoch 30/50\n",
      "85144/85144 [==============================] - 1s 11us/step - loss: 1.4382 - mae: 0.4683 - val_loss: 6.1572 - val_mae: 0.4769\n",
      "Epoch 31/50\n",
      "85144/85144 [==============================] - 1s 11us/step - loss: 1.3665 - mae: 0.4672 - val_loss: 5.9424 - val_mae: 0.4793\n",
      "Epoch 32/50\n",
      "85144/85144 [==============================] - 1s 11us/step - loss: 0.8815 - mae: 0.4341 - val_loss: 4.9288 - val_mae: 0.4749\n",
      "Epoch 33/50\n",
      "85144/85144 [==============================] - 1s 11us/step - loss: 0.9356 - mae: 0.4362 - val_loss: 5.1821 - val_mae: 0.4492\n",
      "Epoch 34/50\n",
      "85144/85144 [==============================] - 1s 12us/step - loss: 1.1356 - mae: 0.4433 - val_loss: 6.5453 - val_mae: 0.4729\n",
      "Epoch 35/50\n",
      "85144/85144 [==============================] - 1s 11us/step - loss: 1.3298 - mae: 0.4469 - val_loss: 8.0499 - val_mae: 0.5268\n",
      "Epoch 36/50\n",
      "85144/85144 [==============================] - 1s 11us/step - loss: 1.5816 - mae: 0.4645 - val_loss: 4.9616 - val_mae: 0.5135\n",
      "Epoch 37/50\n",
      "85144/85144 [==============================] - 1s 11us/step - loss: 1.7726 - mae: 0.4585 - val_loss: 4.7786 - val_mae: 0.5124\n",
      "Epoch 38/50\n",
      "85144/85144 [==============================] - 1s 11us/step - loss: 0.9854 - mae: 0.4401 - val_loss: 4.8883 - val_mae: 0.4472\n",
      "Epoch 39/50\n",
      "85144/85144 [==============================] - 1s 11us/step - loss: 1.0621 - mae: 0.4454 - val_loss: 5.3092 - val_mae: 0.4667\n",
      "Epoch 40/50\n",
      "85144/85144 [==============================] - 1s 11us/step - loss: 1.0904 - mae: 0.4392 - val_loss: 10.3324 - val_mae: 0.4842\n",
      "Epoch 41/50\n",
      "85144/85144 [==============================] - 1s 12us/step - loss: 1.2288 - mae: 0.4545 - val_loss: 3.9740 - val_mae: 0.4568\n",
      "Epoch 42/50\n",
      "85144/85144 [==============================] - 1s 13us/step - loss: 1.4039 - mae: 0.4688 - val_loss: 8.0012 - val_mae: 0.5538\n",
      "Epoch 43/50\n",
      "85144/85144 [==============================] - 1s 11us/step - loss: 1.3656 - mae: 0.4596 - val_loss: 1.9879 - val_mae: 0.4608\n",
      "Epoch 44/50\n",
      "85144/85144 [==============================] - 1s 11us/step - loss: 1.3009 - mae: 0.4551 - val_loss: 9.9556 - val_mae: 0.4497\n",
      "Epoch 45/50\n",
      "85144/85144 [==============================] - 1s 11us/step - loss: 1.0676 - mae: 0.4339 - val_loss: 9.2732 - val_mae: 0.4664\n",
      "Epoch 46/50\n",
      "85144/85144 [==============================] - 1s 11us/step - loss: 1.0064 - mae: 0.4320 - val_loss: 3.2507 - val_mae: 0.4464\n",
      "Epoch 47/50\n",
      "85144/85144 [==============================] - 1s 11us/step - loss: 1.1300 - mae: 0.4426 - val_loss: 7.6084 - val_mae: 0.4897\n",
      "Epoch 48/50\n",
      "85144/85144 [==============================] - 1s 11us/step - loss: 0.9756 - mae: 0.4328 - val_loss: 3.1282 - val_mae: 0.4963\n",
      "Epoch 49/50\n",
      "85144/85144 [==============================] - 1s 11us/step - loss: 1.1216 - mae: 0.4364 - val_loss: 7.2680 - val_mae: 0.4612\n",
      "Epoch 50/50\n",
      "85144/85144 [==============================] - 1s 11us/step - loss: 1.1450 - mae: 0.4502 - val_loss: 4.5456 - val_mae: 0.4813\n"
     ]
    }
   ],
   "source": [
    "history = model.fit(partial_X_train, partial_Y_train, \n",
    "                    epochs = 50, \n",
    "                    batch_size = 512, \n",
    "                    validation_data = (X_val, Y_val))"
   ]
  },
  {
   "cell_type": "code",
   "execution_count": 19,
   "metadata": {},
   "outputs": [
    {
     "data": {
      "image/png": "[encoded data removed]",
      "text/plain": [
       "<Figure size 432x288 with 1 Axes>"
      ]
     },
     "metadata": {
      "needs_background": "light"
     },
     "output_type": "display_data"
    }
   ],
   "source": [
    "import matplotlib.pyplot as plt\n",
    "\n",
    "plt.plot(history.history['loss'])\n",
    "plt.plot(history.history['val_loss'])\n",
    "plt.title('model loss')\n",
    "plt.ylabel('loss')\n",
    "plt.xlabel('epoch')\n",
    "plt.legend(['train', 'val'], loc = 'upper left')\n",
    "plt.savefig('asteroids_loss2.jpg')\n",
    "plt.show()"
   ]
  },
  {
   "cell_type": "markdown",
   "metadata": {},
   "source": [
    "That helped reduce a lot of the noise we were seeing. It's clear that we are overfitting on the train set. Let's start tuning by reducing the size of our hidden layers."
   ]
  },
  {
   "cell_type": "code",
   "execution_count": 20,
   "metadata": {},
   "outputs": [
    {
     "name": "stdout",
     "output_type": "stream",
     "text": [
      "Train on 85144 samples, validate on 25000 samples\n",
      "Epoch 1/50\n",
      "85144/85144 [==============================] - 2s 20us/step - loss: 48.0303 - mae: 2.2786 - val_loss: 37.6303 - val_mae: 1.5959\n",
      "Epoch 2/50\n",
      "85144/85144 [==============================] - 1s 8us/step - loss: 25.7773 - mae: 1.2034 - val_loss: 26.4082 - val_mae: 0.9767\n",
      "Epoch 3/50\n",
      "85144/85144 [==============================] - 1s 8us/step - loss: 17.9535 - mae: 0.8888 - val_loss: 27.1304 - val_mae: 1.1468\n",
      "Epoch 4/50\n",
      "85144/85144 [==============================] - 1s 8us/step - loss: 13.6835 - mae: 0.7731 - val_loss: 22.8317 - val_mae: 0.7055\n",
      "Epoch 5/50\n",
      "85144/85144 [==============================] - 1s 8us/step - loss: 11.5659 - mae: 0.7700 - val_loss: 19.0552 - val_mae: 0.7201\n",
      "Epoch 6/50\n",
      "85144/85144 [==============================] - 1s 8us/step - loss: 9.3504 - mae: 0.6998 - val_loss: 17.1383 - val_mae: 0.6598\n",
      "Epoch 7/50\n",
      "85144/85144 [==============================] - 1s 8us/step - loss: 7.5690 - mae: 0.6916 - val_loss: 24.2072 - val_mae: 0.7803\n",
      "Epoch 8/50\n",
      "85144/85144 [==============================] - 1s 8us/step - loss: 6.6501 - mae: 0.7270 - val_loss: 13.5578 - val_mae: 0.7343\n",
      "Epoch 9/50\n",
      "85144/85144 [==============================] - 1s 8us/step - loss: 5.6924 - mae: 0.6839 - val_loss: 21.0919 - val_mae: 0.6079\n",
      "Epoch 10/50\n",
      "85144/85144 [==============================] - 1s 9us/step - loss: 4.4970 - mae: 0.6825 - val_loss: 19.3786 - val_mae: 0.6100\n",
      "Epoch 11/50\n",
      "85144/85144 [==============================] - 1s 8us/step - loss: 3.4473 - mae: 0.5908 - val_loss: 12.1039 - val_mae: 0.7172\n",
      "Epoch 12/50\n",
      "85144/85144 [==============================] - 1s 8us/step - loss: 3.4374 - mae: 0.6654 - val_loss: 15.6487 - val_mae: 0.5817\n",
      "Epoch 13/50\n",
      "85144/85144 [==============================] - 1s 8us/step - loss: 3.0182 - mae: 0.6317 - val_loss: 13.3282 - val_mae: 0.6408\n",
      "Epoch 14/50\n",
      "85144/85144 [==============================] - 1s 8us/step - loss: 2.3895 - mae: 0.5778 - val_loss: 5.0515 - val_mae: 0.6629\n",
      "Epoch 15/50\n",
      "85144/85144 [==============================] - 1s 8us/step - loss: 2.5926 - mae: 0.5671 - val_loss: 11.3853 - val_mae: 0.5573\n",
      "Epoch 16/50\n",
      "85144/85144 [==============================] - 1s 8us/step - loss: 2.0483 - mae: 0.5493 - val_loss: 10.0108 - val_mae: 0.6244\n",
      "Epoch 17/50\n",
      "85144/85144 [==============================] - 1s 8us/step - loss: 2.3881 - mae: 0.5820 - val_loss: 20.7137 - val_mae: 0.6803\n",
      "Epoch 18/50\n",
      "85144/85144 [==============================] - 1s 8us/step - loss: 2.3957 - mae: 0.5595 - val_loss: 12.3985 - val_mae: 0.5654\n",
      "Epoch 19/50\n",
      "85144/85144 [==============================] - 1s 7us/step - loss: 1.8364 - mae: 0.5291 - val_loss: 13.6311 - val_mae: 0.5296\n",
      "Epoch 20/50\n",
      "85144/85144 [==============================] - 1s 7us/step - loss: 1.8559 - mae: 0.5416 - val_loss: 5.3694 - val_mae: 0.6477\n",
      "Epoch 21/50\n",
      "85144/85144 [==============================] - 1s 7us/step - loss: 2.2429 - mae: 0.5667 - val_loss: 9.3300 - val_mae: 0.6294\n",
      "Epoch 22/50\n",
      "85144/85144 [==============================] - 1s 7us/step - loss: 2.0006 - mae: 0.5422 - val_loss: 5.1033 - val_mae: 0.5229\n",
      "Epoch 23/50\n",
      "85144/85144 [==============================] - 1s 8us/step - loss: 1.9164 - mae: 0.5241 - val_loss: 4.8413 - val_mae: 0.6850\n",
      "Epoch 24/50\n",
      "85144/85144 [==============================] - 1s 10us/step - loss: 1.7981 - mae: 0.5250 - val_loss: 7.8648 - val_mae: 0.5098\n",
      "Epoch 25/50\n",
      "85144/85144 [==============================] - 1s 11us/step - loss: 1.5024 - mae: 0.4984 - val_loss: 5.0949 - val_mae: 0.5156\n",
      "Epoch 26/50\n",
      "85144/85144 [==============================] - 1s 9us/step - loss: 1.7243 - mae: 0.5178 - val_loss: 20.4106 - val_mae: 0.5826\n",
      "Epoch 27/50\n",
      "85144/85144 [==============================] - 1s 10us/step - loss: 2.2591 - mae: 0.5641 - val_loss: 16.4876 - val_mae: 0.5472\n",
      "Epoch 28/50\n",
      "85144/85144 [==============================] - 1s 9us/step - loss: 1.9487 - mae: 0.5427 - val_loss: 11.6095 - val_mae: 0.5172\n",
      "Epoch 29/50\n",
      "85144/85144 [==============================] - 1s 8us/step - loss: 1.8838 - mae: 0.5263 - val_loss: 8.1944 - val_mae: 0.5177\n",
      "Epoch 30/50\n",
      "85144/85144 [==============================] - 1s 9us/step - loss: 1.7401 - mae: 0.5146 - val_loss: 10.0140 - val_mae: 0.6285\n",
      "Epoch 31/50\n",
      "85144/85144 [==============================] - 1s 8us/step - loss: 2.1044 - mae: 0.5874 - val_loss: 11.4119 - val_mae: 0.5157\n",
      "Epoch 32/50\n",
      "85144/85144 [==============================] - 1s 9us/step - loss: 1.7585 - mae: 0.5176 - val_loss: 9.4887 - val_mae: 0.5622\n",
      "Epoch 33/50\n",
      "85144/85144 [==============================] - 1s 8us/step - loss: 1.7039 - mae: 0.4942 - val_loss: 10.0396 - val_mae: 0.5118\n",
      "Epoch 34/50\n",
      "85144/85144 [==============================] - 1s 8us/step - loss: 2.2286 - mae: 0.5468 - val_loss: 8.6354 - val_mae: 0.6053\n",
      "Epoch 35/50\n",
      "85144/85144 [==============================] - 1s 9us/step - loss: 1.8556 - mae: 0.5406 - val_loss: 7.6149 - val_mae: 0.5854\n",
      "Epoch 36/50\n",
      "85144/85144 [==============================] - 1s 9us/step - loss: 1.7673 - mae: 0.5098 - val_loss: 8.7998 - val_mae: 0.4878\n",
      "Epoch 37/50\n",
      "85144/85144 [==============================] - 1s 8us/step - loss: 1.6224 - mae: 0.4897 - val_loss: 10.0712 - val_mae: 0.5324\n",
      "Epoch 38/50\n",
      "85144/85144 [==============================] - 1s 9us/step - loss: 1.8331 - mae: 0.5303 - val_loss: 4.7299 - val_mae: 0.5935\n",
      "Epoch 39/50\n",
      "85144/85144 [==============================] - 1s 9us/step - loss: 1.6117 - mae: 0.5108 - val_loss: 6.8008 - val_mae: 0.5206\n",
      "Epoch 40/50\n",
      "85144/85144 [==============================] - 1s 8us/step - loss: 2.0014 - mae: 0.5310 - val_loss: 10.4725 - val_mae: 0.4888\n",
      "Epoch 41/50\n",
      "85144/85144 [==============================] - 1s 9us/step - loss: 1.3739 - mae: 0.4775 - val_loss: 11.0045 - val_mae: 0.4979\n",
      "Epoch 42/50\n",
      "85144/85144 [==============================] - 1s 8us/step - loss: 1.2747 - mae: 0.4845 - val_loss: 11.3621 - val_mae: 0.5179\n",
      "Epoch 43/50\n",
      "85144/85144 [==============================] - 1s 8us/step - loss: 1.1656 - mae: 0.4741 - val_loss: 9.4372 - val_mae: 0.5018\n",
      "Epoch 44/50\n",
      "85144/85144 [==============================] - 1s 9us/step - loss: 1.3697 - mae: 0.4981 - val_loss: 7.7663 - val_mae: 0.5020\n",
      "Epoch 45/50\n",
      "85144/85144 [==============================] - 1s 8us/step - loss: 1.6279 - mae: 0.5002 - val_loss: 12.4789 - val_mae: 0.5737\n",
      "Epoch 46/50\n",
      "85144/85144 [==============================] - 1s 8us/step - loss: 2.5485 - mae: 0.5885 - val_loss: 6.9529 - val_mae: 0.6509\n",
      "Epoch 47/50\n",
      "85144/85144 [==============================] - 1s 9us/step - loss: 1.8979 - mae: 0.5212 - val_loss: 22.3051 - val_mae: 0.6065\n",
      "Epoch 48/50\n",
      "85144/85144 [==============================] - 1s 8us/step - loss: 2.5524 - mae: 0.5621 - val_loss: 8.2147 - val_mae: 0.5387\n",
      "Epoch 49/50\n",
      "85144/85144 [==============================] - 1s 8us/step - loss: 1.5509 - mae: 0.4849 - val_loss: 7.0343 - val_mae: 0.4809\n",
      "Epoch 50/50\n",
      "85144/85144 [==============================] - 1s 8us/step - loss: 1.2802 - mae: 0.4703 - val_loss: 17.1636 - val_mae: 0.5085\n"
     ]
    }
   ],
   "source": [
    "model = Sequential()\n",
    "model.add(Dense(64, activation = 'relu', \n",
    "                input_dim = partial_X_train.shape[1]))\n",
    "model.add(Dense(64, activation = 'relu'))\n",
    "model.add(Dense(32, activation = 'relu'))\n",
    "model.add(Dense(32, activation = 'relu'))\n",
    "model.add(Dense(1))\n",
    "\n",
    "model.compile(loss = 'mean_squared_error', \n",
    "              optimizer = 'adam', \n",
    "              metrics = ['mae'])\n",
    "\n",
    "history = model.fit(partial_X_train, partial_Y_train, \n",
    "                    epochs = 50, \n",
    "                    batch_size = 512, \n",
    "                    validation_data = (X_val, Y_val))"
   ]
  },
  {
   "cell_type": "code",
   "execution_count": 21,
   "metadata": {},
   "outputs": [
    {
     "data": {
      "image/png": "[encoded data removed]",
      "text/plain": [
       "<Figure size 432x288 with 1 Axes>"
      ]
     },
     "metadata": {
      "needs_background": "light"
     },
     "output_type": "display_data"
    }
   ],
   "source": [
    "plt.plot(history.history['loss'])\n",
    "plt.plot(history.history['val_loss'])\n",
    "plt.title('model loss')\n",
    "plt.ylabel('loss')\n",
    "plt.xlabel('epoch')\n",
    "plt.legend(['train', 'val'], loc = 'upper left')\n",
    "plt.savefig('asteroids_loss3.jpg')\n",
    "plt.show()"
   ]
  },
  {
   "cell_type": "markdown",
   "metadata": {},
   "source": [
    "Still overfitting quite a bit. Let's try reducing the number of hidden layers we have and decreasing the size of the last hidden layer. "
   ]
  },
  {
   "cell_type": "code",
   "execution_count": 22,
   "metadata": {},
   "outputs": [
    {
     "name": "stdout",
     "output_type": "stream",
     "text": [
      "Train on 85144 samples, validate on 25000 samples\n",
      "Epoch 1/50\n",
      "85144/85144 [==============================] - 1s 16us/step - loss: 66.9657 - mae: 2.5634 - val_loss: 51.2142 - val_mae: 1.6737\n",
      "Epoch 2/50\n",
      "85144/85144 [==============================] - 1s 6us/step - loss: 37.5637 - mae: 1.5526 - val_loss: 40.9911 - val_mae: 1.5457\n",
      "Epoch 3/50\n",
      "85144/85144 [==============================] - 1s 6us/step - loss: 29.5288 - mae: 1.3277 - val_loss: 38.4486 - val_mae: 1.2782\n",
      "Epoch 4/50\n",
      "85144/85144 [==============================] - 1s 7us/step - loss: 24.0924 - mae: 1.0834 - val_loss: 31.9740 - val_mae: 0.9094\n",
      "Epoch 5/50\n",
      "85144/85144 [==============================] - 1s 7us/step - loss: 20.4328 - mae: 0.8738 - val_loss: 30.5449 - val_mae: 0.9824\n",
      "Epoch 6/50\n",
      "85144/85144 [==============================] - 1s 7us/step - loss: 18.2685 - mae: 0.8320 - val_loss: 26.1966 - val_mae: 0.7547\n",
      "Epoch 7/50\n",
      "85144/85144 [==============================] - 1s 7us/step - loss: 16.3703 - mae: 0.7614 - val_loss: 28.8458 - val_mae: 0.7738\n",
      "Epoch 8/50\n",
      "85144/85144 [==============================] - 1s 7us/step - loss: 15.6933 - mae: 0.7368 - val_loss: 25.5578 - val_mae: 0.6445\n",
      "Epoch 9/50\n",
      "85144/85144 [==============================] - 1s 7us/step - loss: 13.6956 - mae: 0.6536 - val_loss: 23.9643 - val_mae: 0.6408\n",
      "Epoch 10/50\n",
      "85144/85144 [==============================] - 1s 6us/step - loss: 12.7703 - mae: 0.6834 - val_loss: 20.1762 - val_mae: 0.6264\n",
      "Epoch 11/50\n",
      "85144/85144 [==============================] - 1s 8us/step - loss: 11.4946 - mae: 0.6514 - val_loss: 22.1590 - val_mae: 0.6842\n",
      "Epoch 12/50\n",
      "85144/85144 [==============================] - 1s 12us/step - loss: 11.1115 - mae: 0.7032 - val_loss: 21.3858 - val_mae: 0.7798\n",
      "Epoch 13/50\n",
      "85144/85144 [==============================] - 1s 8us/step - loss: 10.1930 - mae: 0.7058 - val_loss: 19.6158 - val_mae: 0.6309\n",
      "Epoch 14/50\n",
      "85144/85144 [==============================] - 1s 7us/step - loss: 9.4416 - mae: 0.6859 - val_loss: 15.2677 - val_mae: 0.6404\n",
      "Epoch 15/50\n",
      "85144/85144 [==============================] - 1s 7us/step - loss: 8.2170 - mae: 0.6312 - val_loss: 21.0401 - val_mae: 0.7444\n",
      "Epoch 16/50\n",
      "85144/85144 [==============================] - 1s 7us/step - loss: 7.3356 - mae: 0.5981 - val_loss: 16.1707 - val_mae: 0.6615\n",
      "Epoch 17/50\n",
      "85144/85144 [==============================] - 1s 7us/step - loss: 6.6305 - mae: 0.5758 - val_loss: 19.2445 - val_mae: 0.5797\n",
      "Epoch 18/50\n",
      "85144/85144 [==============================] - 1s 7us/step - loss: 6.0044 - mae: 0.5735 - val_loss: 13.4777 - val_mae: 0.6173\n",
      "Epoch 19/50\n",
      "85144/85144 [==============================] - 1s 7us/step - loss: 5.7781 - mae: 0.6285 - val_loss: 17.1156 - val_mae: 0.5630\n",
      "Epoch 20/50\n",
      "85144/85144 [==============================] - 1s 6us/step - loss: 5.0242 - mae: 0.5765 - val_loss: 17.6878 - val_mae: 0.6828\n",
      "Epoch 21/50\n",
      "85144/85144 [==============================] - 1s 6us/step - loss: 4.6467 - mae: 0.5736 - val_loss: 11.2352 - val_mae: 0.5788\n",
      "Epoch 22/50\n",
      "85144/85144 [==============================] - 1s 6us/step - loss: 4.6838 - mae: 0.6155 - val_loss: 18.1967 - val_mae: 0.8633\n",
      "Epoch 23/50\n",
      "85144/85144 [==============================] - 1s 6us/step - loss: 4.0578 - mae: 0.5845 - val_loss: 16.0652 - val_mae: 0.5596\n",
      "Epoch 24/50\n",
      "85144/85144 [==============================] - 1s 6us/step - loss: 4.4576 - mae: 0.6162 - val_loss: 19.5744 - val_mae: 0.5537\n",
      "Epoch 25/50\n",
      "85144/85144 [==============================] - 1s 6us/step - loss: 3.6448 - mae: 0.5537 - val_loss: 18.5675 - val_mae: 0.5614\n",
      "Epoch 26/50\n",
      "85144/85144 [==============================] - 1s 6us/step - loss: 3.1937 - mae: 0.5600 - val_loss: 18.5176 - val_mae: 0.8221\n",
      "Epoch 27/50\n",
      "85144/85144 [==============================] - 1s 6us/step - loss: 3.3431 - mae: 0.5878 - val_loss: 7.9672 - val_mae: 0.6262\n",
      "Epoch 28/50\n",
      "85144/85144 [==============================] - 1s 6us/step - loss: 3.0752 - mae: 0.5995 - val_loss: 14.0918 - val_mae: 0.5817\n",
      "Epoch 29/50\n",
      "85144/85144 [==============================] - 1s 6us/step - loss: 3.5415 - mae: 0.6651 - val_loss: 14.3897 - val_mae: 0.5471\n",
      "Epoch 30/50\n",
      "85144/85144 [==============================] - 1s 6us/step - loss: 3.2968 - mae: 0.6086 - val_loss: 15.3393 - val_mae: 0.6252\n",
      "Epoch 31/50\n",
      "85144/85144 [==============================] - 1s 7us/step - loss: 2.5437 - mae: 0.5410 - val_loss: 9.2434 - val_mae: 0.5337\n",
      "Epoch 32/50\n",
      "85144/85144 [==============================] - 1s 6us/step - loss: 3.1044 - mae: 0.6100 - val_loss: 17.7780 - val_mae: 0.6592\n",
      "Epoch 33/50\n",
      "85144/85144 [==============================] - 0s 6us/step - loss: 2.4408 - mae: 0.5742 - val_loss: 18.0243 - val_mae: 0.5216\n",
      "Epoch 34/50\n",
      "85144/85144 [==============================] - 0s 5us/step - loss: 2.3727 - mae: 0.5513 - val_loss: 18.6169 - val_mae: 0.5443\n",
      "Epoch 35/50\n",
      "85144/85144 [==============================] - 0s 5us/step - loss: 2.2007 - mae: 0.5233 - val_loss: 16.6873 - val_mae: 0.5162\n",
      "Epoch 36/50\n",
      "85144/85144 [==============================] - 0s 5us/step - loss: 1.9597 - mae: 0.5183 - val_loss: 8.8061 - val_mae: 0.5679\n",
      "Epoch 37/50\n",
      "85144/85144 [==============================] - 0s 5us/step - loss: 2.1446 - mae: 0.5216 - val_loss: 9.1947 - val_mae: 0.8296\n",
      "Epoch 38/50\n",
      "85144/85144 [==============================] - 1s 6us/step - loss: 2.1816 - mae: 0.5706 - val_loss: 11.9299 - val_mae: 0.5293\n",
      "Epoch 39/50\n",
      "85144/85144 [==============================] - 0s 6us/step - loss: 1.9315 - mae: 0.5075 - val_loss: 11.6326 - val_mae: 0.5264\n",
      "Epoch 40/50\n",
      "85144/85144 [==============================] - 1s 6us/step - loss: 1.9229 - mae: 0.5175 - val_loss: 17.3772 - val_mae: 0.6777\n",
      "Epoch 41/50\n",
      "85144/85144 [==============================] - 1s 6us/step - loss: 1.9696 - mae: 0.5515 - val_loss: 13.4391 - val_mae: 0.5091\n",
      "Epoch 42/50\n",
      "85144/85144 [==============================] - 1s 6us/step - loss: 2.1328 - mae: 0.5781 - val_loss: 7.7544 - val_mae: 0.5241\n",
      "Epoch 43/50\n",
      "85144/85144 [==============================] - 1s 6us/step - loss: 1.9243 - mae: 0.5764 - val_loss: 10.2565 - val_mae: 0.5130\n",
      "Epoch 44/50\n",
      "85144/85144 [==============================] - 1s 6us/step - loss: 1.7253 - mae: 0.5088 - val_loss: 13.5990 - val_mae: 0.4987\n",
      "Epoch 45/50\n",
      "85144/85144 [==============================] - 1s 6us/step - loss: 1.6554 - mae: 0.4989 - val_loss: 13.3684 - val_mae: 0.4911\n",
      "Epoch 46/50\n",
      "85144/85144 [==============================] - 1s 6us/step - loss: 1.5403 - mae: 0.4918 - val_loss: 9.1957 - val_mae: 0.5622\n",
      "Epoch 47/50\n",
      "85144/85144 [==============================] - 1s 6us/step - loss: 1.5671 - mae: 0.4960 - val_loss: 14.5331 - val_mae: 0.5465\n",
      "Epoch 48/50\n",
      "85144/85144 [==============================] - 1s 6us/step - loss: 1.8189 - mae: 0.5285 - val_loss: 6.4287 - val_mae: 0.4983\n",
      "Epoch 49/50\n",
      "85144/85144 [==============================] - 1s 7us/step - loss: 1.5307 - mae: 0.4866 - val_loss: 12.3868 - val_mae: 0.5446\n",
      "Epoch 50/50\n",
      "85144/85144 [==============================] - 1s 7us/step - loss: 1.8176 - mae: 0.5051 - val_loss: 12.3446 - val_mae: 0.5620\n"
     ]
    }
   ],
   "source": [
    "model = Sequential()\n",
    "model.add(Dense(64, activation = 'relu', \n",
    "                input_dim = partial_X_train.shape[1]))\n",
    "model.add(Dense(32, activation = 'relu'))\n",
    "model.add(Dense(16, activation = 'relu'))\n",
    "model.add(Dense(1))\n",
    "\n",
    "model.compile(loss = 'mean_squared_error', \n",
    "              optimizer = 'adam', \n",
    "              metrics = ['mae'])\n",
    "\n",
    "history = model.fit(partial_X_train, partial_Y_train, \n",
    "                    epochs = 50, \n",
    "                    batch_size = 512, \n",
    "                    validation_data = (X_val, Y_val))"
   ]
  },
  {
   "cell_type": "code",
   "execution_count": 23,
   "metadata": {},
   "outputs": [
    {
     "data": {
      "image/png": "[encoded data removed]",
      "text/plain": [
       "<Figure size 432x288 with 1 Axes>"
      ]
     },
     "metadata": {
      "needs_background": "light"
     },
     "output_type": "display_data"
    }
   ],
   "source": [
    "plt.plot(history.history['loss'])\n",
    "plt.plot(history.history['val_loss'])\n",
    "plt.title('model loss')\n",
    "plt.ylabel('loss')\n",
    "plt.xlabel('epoch')\n",
    "plt.legend(['train', 'val'], loc = 'upper left')\n",
    "plt.savefig('asteroids_loss4.jpg')\n",
    "plt.show()"
   ]
  },
  {
   "cell_type": "markdown",
   "metadata": {},
   "source": [
    "We're still overfitting, but if we keep reducing the model size then we will lose strength. Let's add some dropout layers between the hidden layers to help mitigate the overfitting."
   ]
  },
  {
   "cell_type": "code",
   "execution_count": 24,
   "metadata": {},
   "outputs": [
    {
     "name": "stdout",
     "output_type": "stream",
     "text": [
      "Train on 85144 samples, validate on 25000 samples\n",
      "Epoch 1/50\n",
      "85144/85144 [==============================] - 2s 28us/step - loss: 80.6800 - mae: 3.5511 - val_loss: 52.4946 - val_mae: 1.5863\n",
      "Epoch 2/50\n",
      "85144/85144 [==============================] - 1s 14us/step - loss: 49.8735 - mae: 2.3122 - val_loss: 52.1283 - val_mae: 1.8227\n",
      "Epoch 3/50\n",
      "85144/85144 [==============================] - 1s 14us/step - loss: 43.8396 - mae: 2.0863 - val_loss: 45.9188 - val_mae: 1.4153\n",
      "Epoch 4/50\n",
      "85144/85144 [==============================] - 1s 14us/step - loss: 38.3441 - mae: 1.9508 - val_loss: 39.9946 - val_mae: 1.3489\n",
      "Epoch 5/50\n",
      "85144/85144 [==============================] - 1s 14us/step - loss: 34.0484 - mae: 1.8523 - val_loss: 34.2121 - val_mae: 1.2492\n",
      "Epoch 6/50\n",
      "85144/85144 [==============================] - 1s 14us/step - loss: 32.5295 - mae: 1.7746 - val_loss: 33.6704 - val_mae: 1.1299\n",
      "Epoch 7/50\n",
      "85144/85144 [==============================] - 1s 14us/step - loss: 28.6481 - mae: 1.6848 - val_loss: 33.1506 - val_mae: 1.0515\n",
      "Epoch 8/50\n",
      "85144/85144 [==============================] - 1s 14us/step - loss: 27.8721 - mae: 1.6215 - val_loss: 30.2575 - val_mae: 0.8933\n",
      "Epoch 9/50\n",
      "85144/85144 [==============================] - 1s 14us/step - loss: 25.2798 - mae: 1.5585 - val_loss: 28.2691 - val_mae: 0.8896\n",
      "Epoch 10/50\n",
      "85144/85144 [==============================] - 1s 14us/step - loss: 24.2316 - mae: 1.5224 - val_loss: 25.1195 - val_mae: 0.7865\n",
      "Epoch 11/50\n",
      "85144/85144 [==============================] - 1s 14us/step - loss: 22.4816 - mae: 1.4695 - val_loss: 28.0401 - val_mae: 0.9201\n",
      "Epoch 12/50\n",
      "85144/85144 [==============================] - 1s 14us/step - loss: 21.3308 - mae: 1.4306 - val_loss: 28.8482 - val_mae: 1.0090\n",
      "Epoch 13/50\n",
      "85144/85144 [==============================] - 1s 14us/step - loss: 23.0873 - mae: 1.4111 - val_loss: 25.0969 - val_mae: 0.7862\n",
      "Epoch 14/50\n",
      "85144/85144 [==============================] - 1s 14us/step - loss: 19.2466 - mae: 1.3641 - val_loss: 27.6510 - val_mae: 0.9649\n",
      "Epoch 15/50\n",
      "85144/85144 [==============================] - 1s 14us/step - loss: 21.0382 - mae: 1.3197 - val_loss: 21.7766 - val_mae: 0.7654\n",
      "Epoch 16/50\n",
      "85144/85144 [==============================] - 1s 14us/step - loss: 21.9496 - mae: 1.2921 - val_loss: 18.2574 - val_mae: 0.6493\n",
      "Epoch 17/50\n",
      "85144/85144 [==============================] - 1s 14us/step - loss: 16.7592 - mae: 1.2464 - val_loss: 19.3834 - val_mae: 0.6898\n",
      "Epoch 18/50\n",
      "85144/85144 [==============================] - 1s 14us/step - loss: 15.8653 - mae: 1.2373 - val_loss: 19.3772 - val_mae: 0.9274\n",
      "Epoch 19/50\n",
      "85144/85144 [==============================] - 1s 14us/step - loss: 14.0549 - mae: 1.2083 - val_loss: 14.5891 - val_mae: 0.6544\n",
      "Epoch 20/50\n",
      "85144/85144 [==============================] - 1s 15us/step - loss: 13.6110 - mae: 1.2056 - val_loss: 14.6689 - val_mae: 0.7669\n",
      "Epoch 21/50\n",
      "85144/85144 [==============================] - 1s 14us/step - loss: 13.2930 - mae: 1.1776 - val_loss: 18.2519 - val_mae: 0.7290\n",
      "Epoch 22/50\n",
      "85144/85144 [==============================] - 1s 14us/step - loss: 13.0010 - mae: 1.1731 - val_loss: 17.9104 - val_mae: 0.7618\n",
      "Epoch 23/50\n",
      "85144/85144 [==============================] - 1s 14us/step - loss: 16.5184 - mae: 1.1693 - val_loss: 15.3217 - val_mae: 0.7656\n",
      "Epoch 24/50\n",
      "85144/85144 [==============================] - 1s 14us/step - loss: 16.4990 - mae: 1.1482 - val_loss: 17.4923 - val_mae: 0.6362\n",
      "Epoch 25/50\n",
      "85144/85144 [==============================] - 1s 14us/step - loss: 12.9576 - mae: 1.1333 - val_loss: 12.6968 - val_mae: 0.6805\n",
      "Epoch 26/50\n",
      "85144/85144 [==============================] - 1s 13us/step - loss: 10.8342 - mae: 1.1124 - val_loss: 13.9305 - val_mae: 0.6565\n",
      "Epoch 27/50\n",
      "85144/85144 [==============================] - 1s 13us/step - loss: 11.1865 - mae: 1.1087 - val_loss: 12.9226 - val_mae: 0.7184\n",
      "Epoch 28/50\n",
      "85144/85144 [==============================] - 1s 13us/step - loss: 10.3068 - mae: 1.1014 - val_loss: 10.0420 - val_mae: 0.6701\n",
      "Epoch 29/50\n",
      "85144/85144 [==============================] - 1s 14us/step - loss: 10.6480 - mae: 1.0922 - val_loss: 13.8936 - val_mae: 0.7552\n",
      "Epoch 30/50\n",
      "85144/85144 [==============================] - 1s 14us/step - loss: 10.1253 - mae: 1.0812 - val_loss: 15.1128 - val_mae: 0.6521\n",
      "Epoch 31/50\n",
      "85144/85144 [==============================] - 1s 14us/step - loss: 10.7670 - mae: 1.0665 - val_loss: 18.1520 - val_mae: 0.7965\n",
      "Epoch 32/50\n",
      "85144/85144 [==============================] - 1s 15us/step - loss: 10.5596 - mae: 1.0607 - val_loss: 10.0175 - val_mae: 0.6908\n",
      "Epoch 33/50\n",
      "85144/85144 [==============================] - 1s 15us/step - loss: 11.7113 - mae: 1.0677 - val_loss: 14.9788 - val_mae: 0.7225\n",
      "Epoch 34/50\n",
      "85144/85144 [==============================] - 1s 14us/step - loss: 9.7044 - mae: 1.0390 - val_loss: 13.6772 - val_mae: 0.6738\n",
      "Epoch 35/50\n",
      "85144/85144 [==============================] - 1s 14us/step - loss: 11.4861 - mae: 1.0392 - val_loss: 15.3848 - val_mae: 0.6941\n",
      "Epoch 36/50\n",
      "85144/85144 [==============================] - 1s 14us/step - loss: 8.7314 - mae: 1.0234 - val_loss: 13.7691 - val_mae: 0.6868\n",
      "Epoch 37/50\n",
      "85144/85144 [==============================] - 1s 14us/step - loss: 11.7965 - mae: 1.0317 - val_loss: 19.9171 - val_mae: 0.7779\n",
      "Epoch 38/50\n",
      "85144/85144 [==============================] - 1s 14us/step - loss: 10.4784 - mae: 1.0265 - val_loss: 13.6711 - val_mae: 0.7335\n",
      "Epoch 39/50\n",
      "85144/85144 [==============================] - 1s 14us/step - loss: 10.0605 - mae: 1.0238 - val_loss: 11.1813 - val_mae: 0.7669\n",
      "Epoch 40/50\n",
      "85144/85144 [==============================] - 1s 14us/step - loss: 11.6153 - mae: 1.0195 - val_loss: 9.8734 - val_mae: 0.7167\n",
      "Epoch 41/50\n",
      "85144/85144 [==============================] - 1s 14us/step - loss: 10.9886 - mae: 1.0117 - val_loss: 16.2634 - val_mae: 0.7805\n",
      "Epoch 42/50\n",
      "85144/85144 [==============================] - 1s 15us/step - loss: 9.2030 - mae: 0.9977 - val_loss: 18.1983 - val_mae: 0.7203\n",
      "Epoch 43/50\n",
      "85144/85144 [==============================] - 1s 14us/step - loss: 9.0364 - mae: 0.9822 - val_loss: 13.3697 - val_mae: 0.7434\n",
      "Epoch 44/50\n",
      "85144/85144 [==============================] - 1s 14us/step - loss: 12.0199 - mae: 0.9921 - val_loss: 11.4500 - val_mae: 0.7341\n",
      "Epoch 45/50\n",
      "85144/85144 [==============================] - 1s 14us/step - loss: 10.5649 - mae: 0.9974 - val_loss: 15.4789 - val_mae: 0.8531\n",
      "Epoch 46/50\n",
      "85144/85144 [==============================] - 1s 14us/step - loss: 8.0030 - mae: 0.9833 - val_loss: 17.0518 - val_mae: 0.7978\n",
      "Epoch 47/50\n",
      "85144/85144 [==============================] - 1s 14us/step - loss: 8.1469 - mae: 0.9789 - val_loss: 11.6201 - val_mae: 0.8256\n",
      "Epoch 48/50\n",
      "85144/85144 [==============================] - 1s 14us/step - loss: 11.4662 - mae: 0.9953 - val_loss: 21.2526 - val_mae: 0.7886\n",
      "Epoch 49/50\n",
      "85144/85144 [==============================] - 1s 14us/step - loss: 12.7222 - mae: 0.9976 - val_loss: 20.0463 - val_mae: 0.8968\n",
      "Epoch 50/50\n",
      "85144/85144 [==============================] - 1s 14us/step - loss: 10.6791 - mae: 0.9978 - val_loss: 14.0470 - val_mae: 0.9280\n"
     ]
    }
   ],
   "source": [
    "from keras.layers import Dropout\n",
    "\n",
    "model = Sequential()\n",
    "model.add(Dense(64, activation = 'relu', \n",
    "                input_dim = partial_X_train.shape[1]))\n",
    "model.add(Dropout(.25))\n",
    "model.add(Dense(32, activation = 'relu'))\n",
    "model.add(Dropout(.25))\n",
    "model.add(Dense(16, activation = 'relu'))\n",
    "model.add(Dropout(.25))\n",
    "model.add(Dense(1))\n",
    "\n",
    "model.compile(loss = 'mean_squared_error', \n",
    "              optimizer = 'adam', \n",
    "              metrics = ['mae'])\n",
    "\n",
    "history = model.fit(partial_X_train, partial_Y_train, \n",
    "                    epochs = 50, \n",
    "                    batch_size = 512, \n",
    "                    validation_data = (X_val, Y_val))"
   ]
  },
  {
   "cell_type": "code",
   "execution_count": 25,
   "metadata": {},
   "outputs": [
    {
     "data": {
      "image/png": "[encoded data removed]",
      "text/plain": [
       "<Figure size 432x288 with 1 Axes>"
      ]
     },
     "metadata": {
      "needs_background": "light"
     },
     "output_type": "display_data"
    }
   ],
   "source": [
    "plt.plot(history.history['loss'])\n",
    "plt.plot(history.history['val_loss'])\n",
    "plt.title('model loss')\n",
    "plt.ylabel('loss')\n",
    "plt.xlabel('epoch')\n",
    "plt.legend(['train', 'val'], loc = 'upper left')\n",
    "plt.savefig('asteroids_loss5.jpg')\n",
    "plt.show()"
   ]
  },
  {
   "cell_type": "markdown",
   "metadata": {},
   "source": [
    "It looks like we have reduced the overfitting. The loss starts to taper around the 30th epoch. Let's adjust the model accordingly, and then evaluate the model using the test set."
   ]
  },
  {
   "cell_type": "code",
   "execution_count": 26,
   "metadata": {},
   "outputs": [
    {
     "name": "stdout",
     "output_type": "stream",
     "text": [
      "Train on 85144 samples, validate on 25000 samples\n",
      "Epoch 1/30\n",
      "85144/85144 [==============================] - 1s 14us/step - loss: 10.5904 - mae: 1.0065 - val_loss: 9.7737 - val_mae: 0.8218\n",
      "Epoch 2/30\n",
      "85144/85144 [==============================] - 1s 14us/step - loss: 10.2115 - mae: 0.9908 - val_loss: 9.5778 - val_mae: 0.8140\n",
      "Epoch 3/30\n",
      "85144/85144 [==============================] - 1s 14us/step - loss: 8.9025 - mae: 0.9972 - val_loss: 11.6992 - val_mae: 0.8368\n",
      "Epoch 4/30\n",
      "85144/85144 [==============================] - 1s 14us/step - loss: 9.7769 - mae: 0.9871 - val_loss: 16.2616 - val_mae: 0.8489\n",
      "Epoch 5/30\n",
      "85144/85144 [==============================] - 1s 14us/step - loss: 8.5323 - mae: 0.9860 - val_loss: 14.4576 - val_mae: 0.8850\n",
      "Epoch 6/30\n",
      "85144/85144 [==============================] - 1s 14us/step - loss: 9.7885 - mae: 0.9797 - val_loss: 11.2678 - val_mae: 0.9113\n",
      "Epoch 7/30\n",
      "85144/85144 [==============================] - 1s 14us/step - loss: 9.4182 - mae: 0.9783 - val_loss: 14.6437 - val_mae: 0.8483\n",
      "Epoch 8/30\n",
      "85144/85144 [==============================] - 1s 14us/step - loss: 11.3871 - mae: 0.9941 - val_loss: 10.1752 - val_mae: 0.8905\n",
      "Epoch 9/30\n",
      "85144/85144 [==============================] - 1s 14us/step - loss: 9.4161 - mae: 0.9825 - val_loss: 8.4582 - val_mae: 0.8640\n",
      "Epoch 10/30\n",
      "85144/85144 [==============================] - 1s 13us/step - loss: 10.1692 - mae: 0.9854 - val_loss: 13.3839 - val_mae: 0.8874\n",
      "Epoch 11/30\n",
      "85144/85144 [==============================] - 1s 13us/step - loss: 7.8219 - mae: 0.9806 - val_loss: 13.3235 - val_mae: 0.9569\n",
      "Epoch 12/30\n",
      "85144/85144 [==============================] - 1s 13us/step - loss: 7.9818 - mae: 0.9791 - val_loss: 17.6009 - val_mae: 0.9442\n",
      "Epoch 13/30\n",
      "85144/85144 [==============================] - 1s 14us/step - loss: 8.2532 - mae: 0.9798 - val_loss: 14.5536 - val_mae: 0.9414\n",
      "Epoch 14/30\n",
      "85144/85144 [==============================] - 1s 14us/step - loss: 9.1103 - mae: 0.9938 - val_loss: 12.3410 - val_mae: 0.8989\n",
      "Epoch 15/30\n",
      "85144/85144 [==============================] - 1s 14us/step - loss: 7.3175 - mae: 0.9851 - val_loss: 12.5213 - val_mae: 0.9252\n",
      "Epoch 16/30\n",
      "85144/85144 [==============================] - 1s 14us/step - loss: 11.0563 - mae: 0.9962 - val_loss: 10.5068 - val_mae: 0.9066\n",
      "Epoch 17/30\n",
      "85144/85144 [==============================] - 1s 14us/step - loss: 8.5648 - mae: 0.9764 - val_loss: 21.8880 - val_mae: 0.9330\n",
      "Epoch 18/30\n",
      "85144/85144 [==============================] - 1s 14us/step - loss: 7.9471 - mae: 0.9684 - val_loss: 15.5509 - val_mae: 0.9518\n",
      "Epoch 19/30\n",
      "85144/85144 [==============================] - 1s 14us/step - loss: 10.7822 - mae: 0.9921 - val_loss: 19.4574 - val_mae: 1.0363\n",
      "Epoch 20/30\n",
      "85144/85144 [==============================] - 1s 14us/step - loss: 8.0838 - mae: 0.9850 - val_loss: 10.7774 - val_mae: 0.9376\n",
      "Epoch 21/30\n",
      "85144/85144 [==============================] - 1s 14us/step - loss: 12.1486 - mae: 0.9999 - val_loss: 13.1104 - val_mae: 0.9383\n",
      "Epoch 22/30\n",
      "85144/85144 [==============================] - 1s 15us/step - loss: 6.6881 - mae: 0.9710 - val_loss: 14.6011 - val_mae: 0.9397\n",
      "Epoch 23/30\n",
      "85144/85144 [==============================] - 1s 14us/step - loss: 10.4670 - mae: 0.9777 - val_loss: 13.1439 - val_mae: 0.9512\n",
      "Epoch 24/30\n",
      "85144/85144 [==============================] - 1s 14us/step - loss: 7.9422 - mae: 0.9726 - val_loss: 14.1353 - val_mae: 0.9978\n",
      "Epoch 25/30\n",
      "85144/85144 [==============================] - 1s 14us/step - loss: 8.4333 - mae: 0.9672 - val_loss: 7.4944 - val_mae: 0.9311\n",
      "Epoch 26/30\n",
      "85144/85144 [==============================] - 1s 14us/step - loss: 9.1124 - mae: 0.9775 - val_loss: 16.6395 - val_mae: 0.9990\n",
      "Epoch 27/30\n",
      "85144/85144 [==============================] - 1s 14us/step - loss: 9.2874 - mae: 0.9708 - val_loss: 9.1145 - val_mae: 0.9194\n",
      "Epoch 28/30\n",
      "85144/85144 [==============================] - 1s 14us/step - loss: 11.0126 - mae: 0.9824 - val_loss: 9.7362 - val_mae: 0.9222\n",
      "Epoch 29/30\n",
      "85144/85144 [==============================] - 1s 14us/step - loss: 7.2832 - mae: 0.9693 - val_loss: 9.6444 - val_mae: 0.9472\n",
      "Epoch 30/30\n",
      "85144/85144 [==============================] - 1s 14us/step - loss: 7.7942 - mae: 0.9809 - val_loss: 9.6473 - val_mae: 0.9542\n"
     ]
    }
   ],
   "source": [
    "history = model.fit(partial_X_train, partial_Y_train, \n",
    "                    epochs = 30, \n",
    "                    batch_size = 512, \n",
    "                    validation_data = (X_val, Y_val))"
   ]
  },
  {
   "cell_type": "code",
   "execution_count": 27,
   "metadata": {},
   "outputs": [
    {
     "name": "stdout",
     "output_type": "stream",
     "text": [
      "27536/27536 [==============================] - 1s 23us/step\n",
      "The test loss is 6.388 and the test mae is 0.969\n"
     ]
    }
   ],
   "source": [
    "test_loss, test_mae = model.evaluate(X_test, Y_test)\n",
    "\n",
    "print('The test loss is', round(test_loss, 3), \n",
    "      'and the test mae is', round(test_mae, 3))"
   ]
  },
  {
   "cell_type": "markdown",
   "metadata": {},
   "source": [
    "The mean absolute error indicates how much we are off on average. It can be difficult to analyze the performace off of these values alone, especially if we don't know much about asteroid diameters. Let's calculate R^2 to better understand the model."
   ]
  },
  {
   "cell_type": "code",
   "execution_count": 28,
   "metadata": {},
   "outputs": [
    {
     "name": "stdout",
     "output_type": "stream",
     "text": [
      "The R^2 for our model is 0.895\n"
     ]
    }
   ],
   "source": [
    "from sklearn.metrics import r2_score\n",
    "\n",
    "def score(predictions):\n",
    "    score = r2_score(predictions, Y_test)\n",
    "    return score\n",
    "def announce(score):\n",
    "    print('The R^2 for our model is', round(score, 3))\n",
    "\n",
    "Y_pred = model.predict(X_test)\n",
    "r2 = score(Y_pred)\n",
    "announce(r2)"
   ]
  },
  {
   "cell_type": "markdown",
   "metadata": {},
   "source": [
    "## Feature Engineering"
   ]
  },
  {
   "cell_type": "markdown",
   "metadata": {},
   "source": [
    "The previous model just utilizes the features given in the dataset; however, it can be beneficial to engineer some additional features. Let's add some potentially useful features now and see if we can improve our model. The log of each feature will be added to the data and we'll run our model. Note that we won't be taking the log of the neo and pha features, as these are just indicators. Once we add the log transforms, we'll pre-process and normalize the data just as before."
   ]
  },
  {
   "cell_type": "code",
   "execution_count": 61,
   "metadata": {},
   "outputs": [],
   "source": [
    "import numpy as np\n",
    "\n",
    "indicators = asteroid.filter(['neo_N', 'neo_Y', 'pha_N', 'pha_Y'], axis = 1)\n",
    "asteroid = asteroid.drop(['neo_N', 'neo_Y', 'pha_N', 'pha_Y'], axis = 1)\n",
    "\n",
    "asteroid['diameter'] = asteroid['diameter'].apply(np.log)\n",
    "for column in asteroid.columns.drop(['diameter']):\n",
    "    asteroid['log('+column+')'] = asteroid[column].apply(np.log)\n",
    "asteroid = asteroid.dropna(axis = 1)\n",
    "\n",
    "asteroid = pd.concat([asteroid, indicators], axis = 1)\n",
    "\n",
    "predictors = asteroid.drop('diameter', axis = 1) \n",
    "target = asteroid['diameter']\n",
    "X_train, X_test, Y_train, Y_test = train_test_split(predictors, target, \n",
    "                                                    test_size = 0.20, \n",
    "                                                    random_state = 1)\n",
    "\n",
    "std_scaler = preprocessing.StandardScaler().fit(X_train)\n",
    "\n",
    "def scaler(X):\n",
    "    x_norm_arr = std_scaler.fit_transform(X)\n",
    "    return pd.DataFrame(x_norm_arr, columns = X.columns, index = X.index)\n",
    "\n",
    "X_train = scaler(X_train)\n",
    "X_test = scaler(X_test)\n",
    "\n",
    "X_val = X_train[:25000]\n",
    "partial_X_train = X_train[25000:]\n",
    "\n",
    "Y_val = Y_train[:25000]\n",
    "partial_Y_train = Y_train[25000:]"
   ]
  },
  {
   "cell_type": "code",
   "execution_count": 30,
   "metadata": {},
   "outputs": [
    {
     "name": "stdout",
     "output_type": "stream",
     "text": [
      "Train on 85144 samples, validate on 25000 samples\n",
      "Epoch 1/30\n",
      "85144/85144 [==============================] - 2s 27us/step - loss: 1.0136 - mae: 0.7092 - val_loss: 0.0854 - val_mae: 0.2334\n",
      "Epoch 2/30\n",
      "85144/85144 [==============================] - 1s 14us/step - loss: 0.2575 - mae: 0.3766 - val_loss: 0.0617 - val_mae: 0.1945\n",
      "Epoch 3/30\n",
      "85144/85144 [==============================] - 1s 14us/step - loss: 0.2087 - mae: 0.3320 - val_loss: 0.0633 - val_mae: 0.1981\n",
      "Epoch 4/30\n",
      "85144/85144 [==============================] - 1s 15us/step - loss: 0.1661 - mae: 0.2981 - val_loss: 0.0513 - val_mae: 0.1691\n",
      "Epoch 5/30\n",
      "85144/85144 [==============================] - 1s 14us/step - loss: 0.1490 - mae: 0.2762 - val_loss: 0.0497 - val_mae: 0.1636\n",
      "Epoch 6/30\n",
      "85144/85144 [==============================] - 1s 14us/step - loss: 0.1303 - mae: 0.2606 - val_loss: 0.0364 - val_mae: 0.1373\n",
      "Epoch 7/30\n",
      "85144/85144 [==============================] - 1s 13us/step - loss: 0.1197 - mae: 0.2476 - val_loss: 0.0355 - val_mae: 0.1340\n",
      "Epoch 8/30\n",
      "85144/85144 [==============================] - 1s 14us/step - loss: 0.1113 - mae: 0.2391 - val_loss: 0.0326 - val_mae: 0.1294\n",
      "Epoch 9/30\n",
      "85144/85144 [==============================] - 1s 15us/step - loss: 0.1035 - mae: 0.2291 - val_loss: 0.0285 - val_mae: 0.1193\n",
      "Epoch 10/30\n",
      "85144/85144 [==============================] - 1s 14us/step - loss: 0.0996 - mae: 0.2203 - val_loss: 0.0248 - val_mae: 0.1091\n",
      "Epoch 11/30\n",
      "85144/85144 [==============================] - 1s 14us/step - loss: 0.0906 - mae: 0.2134 - val_loss: 0.0258 - val_mae: 0.1173\n",
      "Epoch 12/30\n",
      "85144/85144 [==============================] - 1s 14us/step - loss: 0.0826 - mae: 0.2044 - val_loss: 0.0239 - val_mae: 0.1104\n",
      "Epoch 13/30\n",
      "85144/85144 [==============================] - 1s 14us/step - loss: 0.0787 - mae: 0.1993 - val_loss: 0.0232 - val_mae: 0.1086\n",
      "Epoch 14/30\n",
      "85144/85144 [==============================] - 1s 15us/step - loss: 0.0766 - mae: 0.1933 - val_loss: 0.0252 - val_mae: 0.1153\n",
      "Epoch 15/30\n",
      "85144/85144 [==============================] - 1s 15us/step - loss: 0.0708 - mae: 0.1863 - val_loss: 0.0257 - val_mae: 0.1130\n",
      "Epoch 16/30\n",
      "85144/85144 [==============================] - 1s 15us/step - loss: 0.0662 - mae: 0.1806 - val_loss: 0.0228 - val_mae: 0.1065\n",
      "Epoch 17/30\n",
      "85144/85144 [==============================] - 1s 15us/step - loss: 0.0629 - mae: 0.1748 - val_loss: 0.0237 - val_mae: 0.1048\n",
      "Epoch 18/30\n",
      "85144/85144 [==============================] - 1s 14us/step - loss: 0.0593 - mae: 0.1693 - val_loss: 0.0257 - val_mae: 0.1126\n",
      "Epoch 19/30\n",
      "85144/85144 [==============================] - 1s 14us/step - loss: 0.0593 - mae: 0.1653 - val_loss: 0.0237 - val_mae: 0.1099\n",
      "Epoch 20/30\n",
      "85144/85144 [==============================] - 1s 14us/step - loss: 0.0548 - mae: 0.1598 - val_loss: 0.0259 - val_mae: 0.1077\n",
      "Epoch 21/30\n",
      "85144/85144 [==============================] - 1s 15us/step - loss: 0.0576 - mae: 0.1575 - val_loss: 0.0216 - val_mae: 0.1042\n",
      "Epoch 22/30\n",
      "85144/85144 [==============================] - 1s 15us/step - loss: 0.0508 - mae: 0.1545 - val_loss: 0.0256 - val_mae: 0.1137\n",
      "Epoch 23/30\n",
      "85144/85144 [==============================] - 1s 15us/step - loss: 0.0484 - mae: 0.1505 - val_loss: 0.0242 - val_mae: 0.1103\n",
      "Epoch 24/30\n",
      "85144/85144 [==============================] - 1s 15us/step - loss: 0.0478 - mae: 0.1483 - val_loss: 0.0245 - val_mae: 0.1127\n",
      "Epoch 25/30\n",
      "85144/85144 [==============================] - 1s 16us/step - loss: 0.0450 - mae: 0.1461 - val_loss: 0.0267 - val_mae: 0.1188\n",
      "Epoch 26/30\n",
      "85144/85144 [==============================] - 1s 15us/step - loss: 0.0480 - mae: 0.1445 - val_loss: 0.0268 - val_mae: 0.1170\n",
      "Epoch 27/30\n",
      "85144/85144 [==============================] - 1s 15us/step - loss: 0.0448 - mae: 0.1440 - val_loss: 0.0246 - val_mae: 0.1111\n",
      "Epoch 28/30\n",
      "85144/85144 [==============================] - 1s 15us/step - loss: 0.0437 - mae: 0.1424 - val_loss: 0.0276 - val_mae: 0.1202\n",
      "Epoch 29/30\n",
      "85144/85144 [==============================] - 1s 15us/step - loss: 0.0446 - mae: 0.1426 - val_loss: 0.0260 - val_mae: 0.1153\n",
      "Epoch 30/30\n",
      "85144/85144 [==============================] - 1s 15us/step - loss: 0.0425 - mae: 0.1408 - val_loss: 0.0227 - val_mae: 0.1073\n"
     ]
    }
   ],
   "source": [
    "model = Sequential()\n",
    "model.add(Dense(64, activation = 'relu', \n",
    "                input_dim = partial_X_train.shape[1]))\n",
    "model.add(Dropout(.25))\n",
    "model.add(Dense(32, activation = 'relu'))\n",
    "model.add(Dropout(.25))\n",
    "model.add(Dense(16, activation = 'relu'))\n",
    "model.add(Dropout(.25))\n",
    "model.add(Dense(1))\n",
    "\n",
    "model.compile(loss = 'mean_squared_error', \n",
    "              optimizer = 'adam', \n",
    "              metrics = ['mae'])\n",
    "\n",
    "history = model.fit(partial_X_train, partial_Y_train, \n",
    "                    epochs = 30, \n",
    "                    batch_size = 512, \n",
    "                    validation_data = (X_val, Y_val))"
   ]
  },
  {
   "cell_type": "code",
   "execution_count": 31,
   "metadata": {},
   "outputs": [
    {
     "data": {
      "image/png": "[encoded data removed]",
      "text/plain": [
       "<Figure size 432x288 with 1 Axes>"
      ]
     },
     "metadata": {
      "needs_background": "light"
     },
     "output_type": "display_data"
    }
   ],
   "source": [
    "plt.plot(history.history['loss'])\n",
    "plt.plot(history.history['val_loss'])\n",
    "plt.title('model loss')\n",
    "plt.ylabel('loss')\n",
    "plt.xlabel('epoch')\n",
    "plt.legend(['train', 'val'], loc = 'upper left')\n",
    "plt.savefig('asteroids_loss6.jpg')\n",
    "plt.show()"
   ]
  },
  {
   "cell_type": "markdown",
   "metadata": {},
   "source": [
    "The orginal model we used is converging much faster now. We are overfitting with the additional features. Let's simplify the model by reducing the amout of layers and making them smaller. There's also less noise in the loss now, so we'll lower the batch size as well."
   ]
  },
  {
   "cell_type": "code",
   "execution_count": 62,
   "metadata": {},
   "outputs": [
    {
     "name": "stdout",
     "output_type": "stream",
     "text": [
      "Train on 85144 samples, validate on 25000 samples\n",
      "Epoch 1/30\n",
      "85144/85144 [==============================] - 3s 31us/step - loss: 0.2077 - mae: 0.2587 - val_loss: 0.0290 - val_mae: 0.1194\n",
      "Epoch 2/30\n",
      "85144/85144 [==============================] - 2s 22us/step - loss: 0.0238 - mae: 0.1068 - val_loss: 0.0191 - val_mae: 0.0975\n",
      "Epoch 3/30\n",
      "85144/85144 [==============================] - 2s 23us/step - loss: 0.0176 - mae: 0.0916 - val_loss: 0.0161 - val_mae: 0.0866\n",
      "Epoch 4/30\n",
      "85144/85144 [==============================] - 2s 23us/step - loss: 0.0155 - mae: 0.0857 - val_loss: 0.0147 - val_mae: 0.0837\n",
      "Epoch 5/30\n",
      "85144/85144 [==============================] - 2s 23us/step - loss: 0.0142 - mae: 0.0824 - val_loss: 0.0156 - val_mae: 0.0840\n",
      "Epoch 6/30\n",
      "85144/85144 [==============================] - 2s 23us/step - loss: 0.0146 - mae: 0.0812 - val_loss: 0.0252 - val_mae: 0.0812\n",
      "Epoch 7/30\n",
      "85144/85144 [==============================] - 2s 22us/step - loss: 0.0202 - mae: 0.0799 - val_loss: 0.0134 - val_mae: 0.0788\n",
      "Epoch 8/30\n",
      "85144/85144 [==============================] - 2s 23us/step - loss: 0.0129 - mae: 0.0782 - val_loss: 0.0137 - val_mae: 0.0802\n",
      "Epoch 9/30\n",
      "85144/85144 [==============================] - 2s 23us/step - loss: 0.0127 - mae: 0.0776 - val_loss: 0.0136 - val_mae: 0.0781\n",
      "Epoch 10/30\n",
      "85144/85144 [==============================] - 2s 23us/step - loss: 0.0127 - mae: 0.0772 - val_loss: 0.0143 - val_mae: 0.0772\n",
      "Epoch 11/30\n",
      "85144/85144 [==============================] - 2s 23us/step - loss: 0.0129 - mae: 0.0769 - val_loss: 0.0138 - val_mae: 0.0775\n",
      "Epoch 12/30\n",
      "85144/85144 [==============================] - 2s 23us/step - loss: 0.0124 - mae: 0.0766 - val_loss: 0.0134 - val_mae: 0.0791\n",
      "Epoch 13/30\n",
      "85144/85144 [==============================] - 2s 22us/step - loss: 0.0124 - mae: 0.0764 - val_loss: 0.0133 - val_mae: 0.0762\n",
      "Epoch 14/30\n",
      "85144/85144 [==============================] - 2s 23us/step - loss: 0.0126 - mae: 0.0764 - val_loss: 0.0124 - val_mae: 0.0748\n",
      "Epoch 15/30\n",
      "85144/85144 [==============================] - 2s 23us/step - loss: 0.0124 - mae: 0.0761 - val_loss: 0.0166 - val_mae: 0.0791\n",
      "Epoch 16/30\n",
      "85144/85144 [==============================] - 2s 24us/step - loss: 0.0154 - mae: 0.0764 - val_loss: 0.0128 - val_mae: 0.0739\n",
      "Epoch 17/30\n",
      "85144/85144 [==============================] - 2s 23us/step - loss: 0.0129 - mae: 0.0755 - val_loss: 0.0132 - val_mae: 0.0773\n",
      "Epoch 18/30\n",
      "85144/85144 [==============================] - 2s 25us/step - loss: 0.0122 - mae: 0.0757 - val_loss: 0.0126 - val_mae: 0.0755\n",
      "Epoch 19/30\n",
      "85144/85144 [==============================] - 2s 23us/step - loss: 0.0120 - mae: 0.0751 - val_loss: 0.0124 - val_mae: 0.0749\n",
      "Epoch 20/30\n",
      "85144/85144 [==============================] - 2s 22us/step - loss: 0.0120 - mae: 0.0754 - val_loss: 0.0118 - val_mae: 0.0749\n",
      "Epoch 21/30\n",
      "85144/85144 [==============================] - 2s 22us/step - loss: 0.0119 - mae: 0.0752 - val_loss: 0.0134 - val_mae: 0.0761\n",
      "Epoch 22/30\n",
      "85144/85144 [==============================] - 2s 23us/step - loss: 0.0122 - mae: 0.0754 - val_loss: 0.0135 - val_mae: 0.0741\n",
      "Epoch 23/30\n",
      "85144/85144 [==============================] - 2s 23us/step - loss: 0.0122 - mae: 0.0753 - val_loss: 0.0130 - val_mae: 0.0757\n",
      "Epoch 24/30\n",
      "85144/85144 [==============================] - 2s 22us/step - loss: 0.0120 - mae: 0.0751 - val_loss: 0.0120 - val_mae: 0.0744\n",
      "Epoch 25/30\n",
      "85144/85144 [==============================] - 2s 24us/step - loss: 0.0119 - mae: 0.0750 - val_loss: 0.0120 - val_mae: 0.0734\n",
      "Epoch 26/30\n",
      "85144/85144 [==============================] - 2s 24us/step - loss: 0.0118 - mae: 0.0748 - val_loss: 0.0119 - val_mae: 0.0742\n",
      "Epoch 27/30\n",
      "85144/85144 [==============================] - 2s 23us/step - loss: 0.0119 - mae: 0.0752 - val_loss: 0.0176 - val_mae: 0.0744\n",
      "Epoch 28/30\n",
      "85144/85144 [==============================] - 2s 24us/step - loss: 0.0119 - mae: 0.0750 - val_loss: 0.0123 - val_mae: 0.0744\n",
      "Epoch 29/30\n",
      "85144/85144 [==============================] - 2s 25us/step - loss: 0.0120 - mae: 0.0748 - val_loss: 0.0117 - val_mae: 0.0747\n",
      "Epoch 30/30\n",
      "85144/85144 [==============================] - 2s 23us/step - loss: 0.0119 - mae: 0.0749 - val_loss: 0.0120 - val_mae: 0.0754\n"
     ]
    }
   ],
   "source": [
    "model = Sequential()\n",
    "model.add(Dense(16, activation = 'relu', \n",
    "                input_dim = partial_X_train.shape[1]))\n",
    "model.add(Dense(8, activation = 'relu'))\n",
    "model.add(Dense(1))\n",
    "\n",
    "model.compile(loss = 'mean_squared_error', \n",
    "              optimizer = 'adam', \n",
    "              metrics = ['mae'])\n",
    "\n",
    "history = model.fit(partial_X_train, partial_Y_train, \n",
    "                    epochs = 30, \n",
    "                    batch_size = 64, \n",
    "                    validation_data = (X_val, Y_val))"
   ]
  },
  {
   "cell_type": "code",
   "execution_count": 63,
   "metadata": {},
   "outputs": [
    {
     "data": {
      "image/png": "[encoded data removed]",
      "text/plain": [
       "<Figure size 432x288 with 1 Axes>"
      ]
     },
     "metadata": {
      "needs_background": "light"
     },
     "output_type": "display_data"
    }
   ],
   "source": [
    "plt.plot(history.history['loss'])\n",
    "plt.plot(history.history['val_loss'])\n",
    "plt.title('model loss')\n",
    "plt.ylabel('loss')\n",
    "plt.xlabel('epoch')\n",
    "plt.legend(['train', 'val'], loc = 'upper left')\n",
    "plt.savefig('asteroids_loss7.jpg')\n",
    "plt.show()"
   ]
  },
  {
   "cell_type": "markdown",
   "metadata": {},
   "source": [
    "It doesn't take very long to fit the data. Let's retrain the model with only 3 epochs and evaluate the model."
   ]
  },
  {
   "cell_type": "code",
   "execution_count": 64,
   "metadata": {},
   "outputs": [
    {
     "name": "stdout",
     "output_type": "stream",
     "text": [
      "Train on 85144 samples, validate on 25000 samples\n",
      "Epoch 1/4\n",
      "85144/85144 [==============================] - 2s 23us/step - loss: 0.0120 - mae: 0.0749 - val_loss: 0.0121 - val_mae: 0.0750\n",
      "Epoch 2/4\n",
      "85144/85144 [==============================] - 2s 23us/step - loss: 0.0117 - mae: 0.0746 - val_loss: 0.0116 - val_mae: 0.0735\n",
      "Epoch 3/4\n",
      "85144/85144 [==============================] - 2s 23us/step - loss: 0.0118 - mae: 0.0747 - val_loss: 0.0118 - val_mae: 0.0742\n",
      "Epoch 4/4\n",
      "85144/85144 [==============================] - 2s 22us/step - loss: 0.0118 - mae: 0.0745 - val_loss: 0.0127 - val_mae: 0.0741\n"
     ]
    }
   ],
   "source": [
    "history = model.fit(partial_X_train, partial_Y_train, \n",
    "                    epochs = 4, \n",
    "                    batch_size = 64, \n",
    "                    validation_data = (X_val, Y_val))"
   ]
  },
  {
   "cell_type": "code",
   "execution_count": 65,
   "metadata": {},
   "outputs": [
    {
     "name": "stdout",
     "output_type": "stream",
     "text": [
      "27536/27536 [==============================] - 0s 15us/step\n",
      "The test loss is 0.013 and the test mae is 0.078\n"
     ]
    }
   ],
   "source": [
    "test_loss, test_mae = model.evaluate(X_test, Y_test)\n",
    "\n",
    "print('The test loss is', round(test_loss, 3), \n",
    "      'and the test mae is', round(test_mae, 3))"
   ]
  },
  {
   "cell_type": "code",
   "execution_count": 66,
   "metadata": {},
   "outputs": [
    {
     "name": "stdout",
     "output_type": "stream",
     "text": [
      "The R^2 for our model is 0.967\n"
     ]
    }
   ],
   "source": [
    "Y_pred = model.predict(X_test)\n",
    "r2 = score(Y_pred)\n",
    "announce(r2)"
   ]
  },
  {
   "cell_type": "markdown",
   "metadata": {},
   "source": [
    "After the feature engineering, we don't need as complex of a model. Even with just two relatively small hidden layers, we are able to get a high R^2 value."
   ]
  }
 ],
 "metadata": {
  "kernelspec": {
   "display_name": "Python 3",
   "language": "python",
   "name": "python3"
  },
  "language_info": {
   "codemirror_mode": {
    "name": "ipython",
    "version": 3
   },
   "file_extension": ".py",
   "mimetype": "text/x-python",
   "name": "python",
   "nbconvert_exporter": "python",
   "pygments_lexer": "ipython3",
   "version": "3.7.3"
  }
 },
 "nbformat": 4,
 "nbformat_minor": 2
}
