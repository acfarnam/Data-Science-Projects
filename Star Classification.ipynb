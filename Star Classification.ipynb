{
 "cells": [
  {
   "cell_type": "markdown",
   "metadata": {},
   "source": [
    "# Classifying Stars Using a Neural Network"
   ]
  },
  {
   "cell_type": "markdown",
   "metadata": {},
   "source": [
    "## Introduction"
   ]
  },
  {
   "cell_type": "markdown",
   "metadata": {},
   "source": [
    "The dataset we'll be looking at contains information on stars. The goal is to classify the type of stars based on the other features provided. The features in the dataset include:\n",
    "\n",
    "- Temperature\n",
    "- Luminosity\n",
    "- Radius\n",
    "- Absolute magnitude\n",
    "- Star type\n",
    "- Star color \n",
    "- Spectral class\n",
    "\n",
    "The categories of stars are as follows:\n",
    "\n",
    "- Brown Dwarf = 0\n",
    "- Red Dwarf = 1\n",
    "- White Dwarf = 2\n",
    "- Main Sequence = 3\n",
    "- Supergiant = 4\n",
    "- Hypergiant = 5"
   ]
  },
  {
   "cell_type": "markdown",
   "metadata": {},
   "source": [
    "## Preparing the Data"
   ]
  },
  {
   "cell_type": "code",
   "execution_count": 1,
   "metadata": {},
   "outputs": [],
   "source": [
    "import pandas as pd\n",
    "\n",
    "stars = pd.read_csv('Data Sets/Stars.csv')"
   ]
  },
  {
   "cell_type": "code",
   "execution_count": 2,
   "metadata": {},
   "outputs": [
    {
     "name": "stdout",
     "output_type": "stream",
     "text": [
      "<class 'pandas.core.frame.DataFrame'>\n",
      "RangeIndex: 240 entries, 0 to 239\n",
      "Data columns (total 7 columns):\n",
      "Temperature (K)           240 non-null int64\n",
      "Luminosity(L/Lo)          240 non-null float64\n",
      "Radius(R/Ro)              240 non-null float64\n",
      "Absolute magnitude(Mv)    240 non-null float64\n",
      "Star type                 240 non-null int64\n",
      "Star color                240 non-null object\n",
      "Spectral Class            240 non-null object\n",
      "dtypes: float64(3), int64(2), object(2)\n",
      "memory usage: 13.2+ KB\n"
     ]
    }
   ],
   "source": [
    "stars.info()"
   ]
  },
  {
   "cell_type": "markdown",
   "metadata": {},
   "source": [
    "Luckily there are no missing data points; however, we do need to encode the categorical features. Let's take a look at the first five observations to get an idea of what we are working with."
   ]
  },
  {
   "cell_type": "code",
   "execution_count": 3,
   "metadata": {},
   "outputs": [
    {
     "data": {
      "text/html": [
       "<div>\n",
       "<style scoped>\n",
       "    .dataframe tbody tr th:only-of-type {\n",
       "        vertical-align: middle;\n",
       "    }\n",
       "\n",
       "    .dataframe tbody tr th {\n",
       "        vertical-align: top;\n",
       "    }\n",
       "\n",
       "    .dataframe thead th {\n",
       "        text-align: right;\n",
       "    }\n",
       "</style>\n",
       "<table border=\"1\" class=\"dataframe\">\n",
       "  <thead>\n",
       "    <tr style=\"text-align: right;\">\n",
       "      <th></th>\n",
       "      <th>Temperature (K)</th>\n",
       "      <th>Luminosity(L/Lo)</th>\n",
       "      <th>Radius(R/Ro)</th>\n",
       "      <th>Absolute magnitude(Mv)</th>\n",
       "      <th>Star type</th>\n",
       "      <th>Star color</th>\n",
       "      <th>Spectral Class</th>\n",
       "    </tr>\n",
       "  </thead>\n",
       "  <tbody>\n",
       "    <tr>\n",
       "      <th>0</th>\n",
       "      <td>3068</td>\n",
       "      <td>0.002400</td>\n",
       "      <td>0.1700</td>\n",
       "      <td>16.12</td>\n",
       "      <td>0</td>\n",
       "      <td>Red</td>\n",
       "      <td>M</td>\n",
       "    </tr>\n",
       "    <tr>\n",
       "      <th>1</th>\n",
       "      <td>3042</td>\n",
       "      <td>0.000500</td>\n",
       "      <td>0.1542</td>\n",
       "      <td>16.60</td>\n",
       "      <td>0</td>\n",
       "      <td>Red</td>\n",
       "      <td>M</td>\n",
       "    </tr>\n",
       "    <tr>\n",
       "      <th>2</th>\n",
       "      <td>2600</td>\n",
       "      <td>0.000300</td>\n",
       "      <td>0.1020</td>\n",
       "      <td>18.70</td>\n",
       "      <td>0</td>\n",
       "      <td>Red</td>\n",
       "      <td>M</td>\n",
       "    </tr>\n",
       "    <tr>\n",
       "      <th>3</th>\n",
       "      <td>2800</td>\n",
       "      <td>0.000200</td>\n",
       "      <td>0.1600</td>\n",
       "      <td>16.65</td>\n",
       "      <td>0</td>\n",
       "      <td>Red</td>\n",
       "      <td>M</td>\n",
       "    </tr>\n",
       "    <tr>\n",
       "      <th>4</th>\n",
       "      <td>1939</td>\n",
       "      <td>0.000138</td>\n",
       "      <td>0.1030</td>\n",
       "      <td>20.06</td>\n",
       "      <td>0</td>\n",
       "      <td>Red</td>\n",
       "      <td>M</td>\n",
       "    </tr>\n",
       "  </tbody>\n",
       "</table>\n",
       "</div>"
      ],
      "text/plain": [
       "   Temperature (K)  Luminosity(L/Lo)  Radius(R/Ro)  Absolute magnitude(Mv)  \\\n",
       "0             3068          0.002400        0.1700                   16.12   \n",
       "1             3042          0.000500        0.1542                   16.60   \n",
       "2             2600          0.000300        0.1020                   18.70   \n",
       "3             2800          0.000200        0.1600                   16.65   \n",
       "4             1939          0.000138        0.1030                   20.06   \n",
       "\n",
       "   Star type Star color Spectral Class  \n",
       "0          0        Red              M  \n",
       "1          0        Red              M  \n",
       "2          0        Red              M  \n",
       "3          0        Red              M  \n",
       "4          0        Red              M  "
      ]
     },
     "execution_count": 3,
     "metadata": {},
     "output_type": "execute_result"
    }
   ],
   "source": [
    "stars.head()"
   ]
  },
  {
   "cell_type": "markdown",
   "metadata": {},
   "source": [
    "We'll need to encode both the star color and spectral class. Star type will also have to be encoded, but we will wait until we assign star type as the target."
   ]
  },
  {
   "cell_type": "code",
   "execution_count": 4,
   "metadata": {},
   "outputs": [],
   "source": [
    "stars = pd.get_dummies(stars, columns=['Star color', 'Spectral Class'])"
   ]
  },
  {
   "cell_type": "code",
   "execution_count": 5,
   "metadata": {},
   "outputs": [
    {
     "data": {
      "text/html": [
       "<div>\n",
       "<style scoped>\n",
       "    .dataframe tbody tr th:only-of-type {\n",
       "        vertical-align: middle;\n",
       "    }\n",
       "\n",
       "    .dataframe tbody tr th {\n",
       "        vertical-align: top;\n",
       "    }\n",
       "\n",
       "    .dataframe thead th {\n",
       "        text-align: right;\n",
       "    }\n",
       "</style>\n",
       "<table border=\"1\" class=\"dataframe\">\n",
       "  <thead>\n",
       "    <tr style=\"text-align: right;\">\n",
       "      <th></th>\n",
       "      <th>Temperature (K)</th>\n",
       "      <th>Luminosity(L/Lo)</th>\n",
       "      <th>Radius(R/Ro)</th>\n",
       "      <th>Absolute magnitude(Mv)</th>\n",
       "      <th>Star type</th>\n",
       "      <th>Star color_Blue</th>\n",
       "      <th>Star color_Blue</th>\n",
       "      <th>Star color_Blue White</th>\n",
       "      <th>Star color_Blue white</th>\n",
       "      <th>Star color_Blue white</th>\n",
       "      <th>...</th>\n",
       "      <th>Star color_white</th>\n",
       "      <th>Star color_yellow-white</th>\n",
       "      <th>Star color_yellowish</th>\n",
       "      <th>Spectral Class_A</th>\n",
       "      <th>Spectral Class_B</th>\n",
       "      <th>Spectral Class_F</th>\n",
       "      <th>Spectral Class_G</th>\n",
       "      <th>Spectral Class_K</th>\n",
       "      <th>Spectral Class_M</th>\n",
       "      <th>Spectral Class_O</th>\n",
       "    </tr>\n",
       "  </thead>\n",
       "  <tbody>\n",
       "    <tr>\n",
       "      <th>0</th>\n",
       "      <td>3068</td>\n",
       "      <td>0.002400</td>\n",
       "      <td>0.1700</td>\n",
       "      <td>16.12</td>\n",
       "      <td>0</td>\n",
       "      <td>0</td>\n",
       "      <td>0</td>\n",
       "      <td>0</td>\n",
       "      <td>0</td>\n",
       "      <td>0</td>\n",
       "      <td>...</td>\n",
       "      <td>0</td>\n",
       "      <td>0</td>\n",
       "      <td>0</td>\n",
       "      <td>0</td>\n",
       "      <td>0</td>\n",
       "      <td>0</td>\n",
       "      <td>0</td>\n",
       "      <td>0</td>\n",
       "      <td>1</td>\n",
       "      <td>0</td>\n",
       "    </tr>\n",
       "    <tr>\n",
       "      <th>1</th>\n",
       "      <td>3042</td>\n",
       "      <td>0.000500</td>\n",
       "      <td>0.1542</td>\n",
       "      <td>16.60</td>\n",
       "      <td>0</td>\n",
       "      <td>0</td>\n",
       "      <td>0</td>\n",
       "      <td>0</td>\n",
       "      <td>0</td>\n",
       "      <td>0</td>\n",
       "      <td>...</td>\n",
       "      <td>0</td>\n",
       "      <td>0</td>\n",
       "      <td>0</td>\n",
       "      <td>0</td>\n",
       "      <td>0</td>\n",
       "      <td>0</td>\n",
       "      <td>0</td>\n",
       "      <td>0</td>\n",
       "      <td>1</td>\n",
       "      <td>0</td>\n",
       "    </tr>\n",
       "    <tr>\n",
       "      <th>2</th>\n",
       "      <td>2600</td>\n",
       "      <td>0.000300</td>\n",
       "      <td>0.1020</td>\n",
       "      <td>18.70</td>\n",
       "      <td>0</td>\n",
       "      <td>0</td>\n",
       "      <td>0</td>\n",
       "      <td>0</td>\n",
       "      <td>0</td>\n",
       "      <td>0</td>\n",
       "      <td>...</td>\n",
       "      <td>0</td>\n",
       "      <td>0</td>\n",
       "      <td>0</td>\n",
       "      <td>0</td>\n",
       "      <td>0</td>\n",
       "      <td>0</td>\n",
       "      <td>0</td>\n",
       "      <td>0</td>\n",
       "      <td>1</td>\n",
       "      <td>0</td>\n",
       "    </tr>\n",
       "    <tr>\n",
       "      <th>3</th>\n",
       "      <td>2800</td>\n",
       "      <td>0.000200</td>\n",
       "      <td>0.1600</td>\n",
       "      <td>16.65</td>\n",
       "      <td>0</td>\n",
       "      <td>0</td>\n",
       "      <td>0</td>\n",
       "      <td>0</td>\n",
       "      <td>0</td>\n",
       "      <td>0</td>\n",
       "      <td>...</td>\n",
       "      <td>0</td>\n",
       "      <td>0</td>\n",
       "      <td>0</td>\n",
       "      <td>0</td>\n",
       "      <td>0</td>\n",
       "      <td>0</td>\n",
       "      <td>0</td>\n",
       "      <td>0</td>\n",
       "      <td>1</td>\n",
       "      <td>0</td>\n",
       "    </tr>\n",
       "    <tr>\n",
       "      <th>4</th>\n",
       "      <td>1939</td>\n",
       "      <td>0.000138</td>\n",
       "      <td>0.1030</td>\n",
       "      <td>20.06</td>\n",
       "      <td>0</td>\n",
       "      <td>0</td>\n",
       "      <td>0</td>\n",
       "      <td>0</td>\n",
       "      <td>0</td>\n",
       "      <td>0</td>\n",
       "      <td>...</td>\n",
       "      <td>0</td>\n",
       "      <td>0</td>\n",
       "      <td>0</td>\n",
       "      <td>0</td>\n",
       "      <td>0</td>\n",
       "      <td>0</td>\n",
       "      <td>0</td>\n",
       "      <td>0</td>\n",
       "      <td>1</td>\n",
       "      <td>0</td>\n",
       "    </tr>\n",
       "  </tbody>\n",
       "</table>\n",
       "<p>5 rows × 31 columns</p>\n",
       "</div>"
      ],
      "text/plain": [
       "   Temperature (K)  Luminosity(L/Lo)  Radius(R/Ro)  Absolute magnitude(Mv)  \\\n",
       "0             3068          0.002400        0.1700                   16.12   \n",
       "1             3042          0.000500        0.1542                   16.60   \n",
       "2             2600          0.000300        0.1020                   18.70   \n",
       "3             2800          0.000200        0.1600                   16.65   \n",
       "4             1939          0.000138        0.1030                   20.06   \n",
       "\n",
       "   Star type  Star color_Blue  Star color_Blue   Star color_Blue White  \\\n",
       "0          0                0                 0                      0   \n",
       "1          0                0                 0                      0   \n",
       "2          0                0                 0                      0   \n",
       "3          0                0                 0                      0   \n",
       "4          0                0                 0                      0   \n",
       "\n",
       "   Star color_Blue white  Star color_Blue white   ...  Star color_white  \\\n",
       "0                      0                       0  ...                 0   \n",
       "1                      0                       0  ...                 0   \n",
       "2                      0                       0  ...                 0   \n",
       "3                      0                       0  ...                 0   \n",
       "4                      0                       0  ...                 0   \n",
       "\n",
       "   Star color_yellow-white  Star color_yellowish  Spectral Class_A  \\\n",
       "0                        0                     0                 0   \n",
       "1                        0                     0                 0   \n",
       "2                        0                     0                 0   \n",
       "3                        0                     0                 0   \n",
       "4                        0                     0                 0   \n",
       "\n",
       "   Spectral Class_B  Spectral Class_F  Spectral Class_G  Spectral Class_K  \\\n",
       "0                 0                 0                 0                 0   \n",
       "1                 0                 0                 0                 0   \n",
       "2                 0                 0                 0                 0   \n",
       "3                 0                 0                 0                 0   \n",
       "4                 0                 0                 0                 0   \n",
       "\n",
       "   Spectral Class_M  Spectral Class_O  \n",
       "0                 1                 0  \n",
       "1                 1                 0  \n",
       "2                 1                 0  \n",
       "3                 1                 0  \n",
       "4                 1                 0  \n",
       "\n",
       "[5 rows x 31 columns]"
      ]
     },
     "execution_count": 5,
     "metadata": {},
     "output_type": "execute_result"
    }
   ],
   "source": [
    "stars.head()"
   ]
  },
  {
   "cell_type": "markdown",
   "metadata": {},
   "source": [
    "This more than doubles our dimensions. Luckily we didn't start with that many features."
   ]
  },
  {
   "cell_type": "markdown",
   "metadata": {},
   "source": [
    "### Splitting Data into Train and Test Sets"
   ]
  },
  {
   "cell_type": "markdown",
   "metadata": {},
   "source": [
    "Let's go ahead and split the data into train and test sets. We will also encode the star type now that it has been dropped and made into the target dataset."
   ]
  },
  {
   "cell_type": "code",
   "execution_count": 6,
   "metadata": {},
   "outputs": [],
   "source": [
    "from sklearn.model_selection import train_test_split\n",
    "\n",
    "predictors = stars.drop('Star type', axis = 1)\n",
    "target = stars['Star type']\n",
    "target = pd.get_dummies(target)\n",
    "X_train, X_test, Y_train, Y_test = train_test_split(predictors, target, \n",
    "                                                    test_size = 0.20, \n",
    "                                                    random_state = 1)"
   ]
  },
  {
   "cell_type": "markdown",
   "metadata": {},
   "source": [
    "### Pre-processing"
   ]
  },
  {
   "cell_type": "markdown",
   "metadata": {},
   "source": [
    "Next we will normalize the data using the standard scaler in sklearn. The data will have a mean of zero and a standard deviation of one."
   ]
  },
  {
   "cell_type": "code",
   "execution_count": 7,
   "metadata": {},
   "outputs": [],
   "source": [
    "from sklearn import preprocessing\n",
    "\n",
    "std_scaler = preprocessing.StandardScaler().fit(X_train)\n",
    "\n",
    "def scaler(X):\n",
    "    x_norm_arr = std_scaler.fit_transform(X)\n",
    "    return pd.DataFrame(x_norm_arr, columns = X.columns, index = X.index)\n",
    "\n",
    "X_train = scaler(X_train)\n",
    "X_test = scaler(X_test)"
   ]
  },
  {
   "cell_type": "markdown",
   "metadata": {},
   "source": [
    "### Defining the Model"
   ]
  },
  {
   "cell_type": "markdown",
   "metadata": {},
   "source": [
    "Let's go ahead and build the model we are going to be training. We'll begin with four hidden layers, each activated with the rectified linear unit function. The final layer will have an output of six, representing the six possible star types. We'll calculate loss using categorical crossentropy and optimize with the ADAM optimizer. We would like to measure the success of the model by calculating the accuracy."
   ]
  },
  {
   "cell_type": "code",
   "execution_count": 8,
   "metadata": {},
   "outputs": [
    {
     "name": "stderr",
     "output_type": "stream",
     "text": [
      "Using TensorFlow backend.\n"
     ]
    }
   ],
   "source": [
    "from keras.models import Sequential\n",
    "from keras.layers import Dense\n",
    "from keras.optimizers import Adam\n",
    "\n",
    "def build_model():\n",
    "    model = Sequential()\n",
    "    model.add(Dense(128, activation = 'relu', \n",
    "                    input_dim = X_train.shape[1]))\n",
    "    model.add(Dense(128, activation = 'relu'))\n",
    "    model.add(Dense(64, activation = 'relu'))\n",
    "    model.add(Dense(64, activation = 'relu'))\n",
    "    model.add(Dense(32, activation = 'relu'))\n",
    "    model.add(Dense(6, activation = 'softmax'))\n",
    "\n",
    "    model.compile(loss = 'categorical_crossentropy', \n",
    "                  optimizer = 'adam', \n",
    "                  metrics = ['acc'])\n",
    "    return model"
   ]
  },
  {
   "cell_type": "markdown",
   "metadata": {},
   "source": [
    "Due to the small sample size, we will use k-fold cross validation to observe the models performance during the training process. Let's use 5-fold cross validation."
   ]
  },
  {
   "cell_type": "code",
   "execution_count": 9,
   "metadata": {},
   "outputs": [
    {
     "name": "stdout",
     "output_type": "stream",
     "text": [
      "Processing Fold # 1\n",
      "WARNING:tensorflow:From /Users/cain/anaconda3/lib/python3.7/site-packages/keras/backend/tensorflow_backend.py:422: The name tf.global_variables is deprecated. Please use tf.compat.v1.global_variables instead.\n",
      "\n",
      "Processing Fold # 2\n",
      "Processing Fold # 3\n",
      "Processing Fold # 4\n",
      "Processing Fold # 5\n"
     ]
    }
   ],
   "source": [
    "import numpy as np\n",
    "\n",
    "k = 5\n",
    "num_val_samples = len(X_train) // k\n",
    "num_epochs = 100\n",
    "\n",
    "all_loss_histories = []\n",
    "all_val_loss_histories = []\n",
    "all_acc_histories = []\n",
    "all_val_acc_histories = []\n",
    "\n",
    "for i in range(k):\n",
    "    print('Processing Fold #', i + 1)\n",
    "    \n",
    "    val_data = X_train[i * num_val_samples: (i + 1) * num_val_samples]\n",
    "    val_targets = Y_train[i * num_val_samples: (i + 1) * num_val_samples]\n",
    "\n",
    "    partial_train_data = np.concatenate(\n",
    "        [X_train[:i * num_val_samples],\n",
    "         X_train[(i + 1) * num_val_samples:]],\n",
    "        axis = 0)\n",
    "    partial_train_targets = np.concatenate(\n",
    "        [Y_train[:i * num_val_samples],\n",
    "         Y_train[(i + 1) * num_val_samples:]],\n",
    "        axis = 0)\n",
    "    \n",
    "    model = build_model()\n",
    "    history = model.fit(partial_train_data, partial_train_targets,\n",
    "                        epochs = num_epochs, \n",
    "                        batch_size = 1, \n",
    "                        verbose = 0,\n",
    "                        validation_data=(val_data, val_targets))\n",
    "    \n",
    "    loss_history = history.history['loss']\n",
    "    all_loss_histories.append(loss_history)\n",
    "    val_loss_history = history.history['val_loss']\n",
    "    all_val_loss_histories.append(val_loss_history)\n",
    "    \n",
    "    acc_history = history.history['acc']\n",
    "    all_acc_histories.append(acc_history)\n",
    "    val_acc_history = history.history['val_acc']\n",
    "    all_val_acc_histories.append(val_acc_history)"
   ]
  },
  {
   "cell_type": "markdown",
   "metadata": {},
   "source": [
    "### Plotting the Performance"
   ]
  },
  {
   "cell_type": "code",
   "execution_count": 10,
   "metadata": {},
   "outputs": [],
   "source": [
    "average_loss_history = [\n",
    "    np.mean([x[i] for x in all_loss_histories]) for i in range(100)]\n",
    "\n",
    "average_val_loss_history = [\n",
    "    np.mean([x[i] for x in all_val_loss_histories]) for i in range(100)]"
   ]
  },
  {
   "cell_type": "code",
   "execution_count": 11,
   "metadata": {},
   "outputs": [
    {
     "data": {
      "text/plain": [
       "<Figure size 640x480 with 1 Axes>"
      ]
     },
     "metadata": {},
     "output_type": "display_data"
    }
   ],
   "source": [
    "import matplotlib.pyplot as plt\n",
    "\n",
    "plt.plot(range(1, len(average_loss_history) + 1), average_loss_history)\n",
    "plt.plot(range(1, len(average_val_loss_history) + 1), average_val_loss_history)\n",
    "plt.xlabel('Epochs')\n",
    "plt.ylabel('Loss')\n",
    "plt.legend(['Train', 'Validation'], loc = 'upper left')\n",
    "plt.savefig('stars_loss1.jpg')\n",
    "plt.show()"
   ]
  },
  {
   "cell_type": "markdown",
   "metadata": {},
   "source": [
    "The model is overfitting as quickly as 10 epochs. Let's see how the accuracy compares."
   ]
  },
  {
   "cell_type": "code",
   "execution_count": 12,
   "metadata": {},
   "outputs": [],
   "source": [
    "average_acc_history = [\n",
    "    np.mean([x[i] for x in all_acc_histories]) for i in range(100)]\n",
    "\n",
    "average_val_acc_history = [\n",
    "    np.mean([x[i] for x in all_val_acc_histories]) for i in range(100)]"
   ]
  },
  {
   "cell_type": "code",
   "execution_count": 13,
   "metadata": {},
   "outputs": [
    {
     "data": {
      "image/png": "[encoded data removed]",
      "text/plain": [
       "<Figure size 432x288 with 1 Axes>"
      ]
     },
     "metadata": {
      "needs_background": "light"
     },
     "output_type": "display_data"
    }
   ],
   "source": [
    "import matplotlib.pyplot as plt\n",
    "\n",
    "plt.plot(range(1, len(average_acc_history) + 1), average_acc_history)\n",
    "plt.plot(range(1, len(average_val_acc_history) + 1), average_val_acc_history)\n",
    "plt.xlabel('Epochs')\n",
    "plt.ylabel('Accuracy')\n",
    "plt.legend(['Train', 'Validation'], loc = 'lower right')\n",
    "plt.savefig('stars_acc1.jpg')\n",
    "plt.show()"
   ]
  },
  {
   "cell_type": "markdown",
   "metadata": {},
   "source": [
    "The training accuracy converges quickly. We can afford to reduce the size of the model without having to lose any prediction power."
   ]
  },
  {
   "cell_type": "markdown",
   "metadata": {},
   "source": [
    "Let's remove a few hidden levels and perfrom 5-fold validation again."
   ]
  },
  {
   "cell_type": "code",
   "execution_count": 14,
   "metadata": {},
   "outputs": [],
   "source": [
    "from keras.models import Sequential\n",
    "from keras.layers import Dense\n",
    "from keras.optimizers import Adam\n",
    "\n",
    "def build_model():\n",
    "    model = Sequential()\n",
    "    model.add(Dense(128, activation = 'relu', \n",
    "                    input_dim = X_train.shape[1]))\n",
    "    model.add(Dense(64, activation = 'relu'))\n",
    "    model.add(Dense(32, activation = 'relu'))\n",
    "    model.add(Dense(6, activation = 'softmax'))\n",
    "\n",
    "    model.compile(loss = 'categorical_crossentropy', \n",
    "                  optimizer = 'adam', \n",
    "                  metrics = ['acc'])\n",
    "    return model"
   ]
  },
  {
   "cell_type": "code",
   "execution_count": 15,
   "metadata": {},
   "outputs": [
    {
     "name": "stdout",
     "output_type": "stream",
     "text": [
      "Processing Fold # 1\n",
      "Processing Fold # 2\n",
      "Processing Fold # 3\n",
      "Processing Fold # 4\n",
      "Processing Fold # 5\n"
     ]
    }
   ],
   "source": [
    "import numpy as np\n",
    "\n",
    "k = 5\n",
    "num_val_samples = len(X_train) // k\n",
    "num_epochs = 100\n",
    "\n",
    "all_loss_histories = []\n",
    "all_val_loss_histories = []\n",
    "all_acc_histories = []\n",
    "all_val_acc_histories = []\n",
    "\n",
    "for i in range(k):\n",
    "    print('Processing Fold #', i + 1)\n",
    "    \n",
    "    val_data = X_train[i * num_val_samples: (i + 1) * num_val_samples]\n",
    "    val_targets = Y_train[i * num_val_samples: (i + 1) * num_val_samples]\n",
    "\n",
    "    partial_train_data = np.concatenate(\n",
    "        [X_train[:i * num_val_samples],\n",
    "         X_train[(i + 1) * num_val_samples:]],\n",
    "        axis = 0)\n",
    "    partial_train_targets = np.concatenate(\n",
    "        [Y_train[:i * num_val_samples],\n",
    "         Y_train[(i + 1) * num_val_samples:]],\n",
    "        axis = 0)\n",
    "    \n",
    "    model = build_model()\n",
    "    history = model.fit(partial_train_data, partial_train_targets,\n",
    "                        epochs = num_epochs, \n",
    "                        batch_size = 1, \n",
    "                        verbose = 0,\n",
    "                        validation_data=(val_data, val_targets))\n",
    "    \n",
    "    loss_history = history.history['loss']\n",
    "    all_loss_histories.append(loss_history)\n",
    "    val_loss_history = history.history['val_loss']\n",
    "    all_val_loss_histories.append(val_loss_history)\n",
    "    \n",
    "    acc_history = history.history['acc']\n",
    "    all_acc_histories.append(acc_history)\n",
    "    val_acc_history = history.history['val_acc']\n",
    "    all_val_acc_histories.append(val_acc_history)"
   ]
  },
  {
   "cell_type": "code",
   "execution_count": 16,
   "metadata": {},
   "outputs": [],
   "source": [
    "average_loss_history = [\n",
    "    np.mean([x[i] for x in all_loss_histories]) for i in range(100)]\n",
    "\n",
    "average_val_loss_history = [\n",
    "    np.mean([x[i] for x in all_val_loss_histories]) for i in range(100)]"
   ]
  },
  {
   "cell_type": "code",
   "execution_count": 17,
   "metadata": {},
   "outputs": [
    {
     "data": {
      "image/png": "[encoded data removed]",
      "text/plain": [
       "<Figure size 432x288 with 1 Axes>"
      ]
     },
     "metadata": {
      "needs_background": "light"
     },
     "output_type": "display_data"
    }
   ],
   "source": [
    "import matplotlib.pyplot as plt\n",
    "\n",
    "plt.plot(range(1, len(average_loss_history) + 1), average_loss_history)\n",
    "plt.plot(range(1, len(average_val_loss_history) + 1), average_val_loss_history)\n",
    "plt.xlabel('Epochs')\n",
    "plt.ylabel('Loss')\n",
    "plt.legend(['Train', 'Validation'], loc = 'upper left')\n",
    "plt.savefig('stars_loss2.jpg')\n",
    "plt.show()"
   ]
  },
  {
   "cell_type": "markdown",
   "metadata": {},
   "source": [
    "It's definitely an improvement, but we can do better. Let's check the accuracy before we decide how to proceed."
   ]
  },
  {
   "cell_type": "code",
   "execution_count": 18,
   "metadata": {},
   "outputs": [],
   "source": [
    "average_acc_history = [\n",
    "    np.mean([x[i] for x in all_acc_histories]) for i in range(100)]\n",
    "\n",
    "average_val_acc_history = [\n",
    "    np.mean([x[i] for x in all_val_acc_histories]) for i in range(100)]"
   ]
  },
  {
   "cell_type": "code",
   "execution_count": 19,
   "metadata": {},
   "outputs": [
    {
     "data": {
      "image/png": "[encoded data removed]",
      "text/plain": [
       "<Figure size 432x288 with 1 Axes>"
      ]
     },
     "metadata": {
      "needs_background": "light"
     },
     "output_type": "display_data"
    }
   ],
   "source": [
    "import matplotlib.pyplot as plt\n",
    "\n",
    "plt.plot(range(1, len(average_acc_history) + 1), average_acc_history)\n",
    "plt.plot(range(1, len(average_val_acc_history) + 1), average_val_acc_history)\n",
    "plt.xlabel('Epochs')\n",
    "plt.ylabel('Accuracy')\n",
    "plt.legend(['Train', 'Validation'], loc = 'lower right')\n",
    "plt.savefig('stars_acc2.jpg')\n",
    "plt.show()"
   ]
  },
  {
   "cell_type": "markdown",
   "metadata": {},
   "source": [
    "We still have plenty of prediction power. Let's reduce the size of the layers again."
   ]
  },
  {
   "cell_type": "code",
   "execution_count": 20,
   "metadata": {},
   "outputs": [],
   "source": [
    "from keras.models import Sequential\n",
    "from keras.layers import Dense\n",
    "from keras.optimizers import Adam\n",
    "\n",
    "def build_model():\n",
    "    model = Sequential()\n",
    "    model.add(Dense(64, activation = 'relu', \n",
    "                    input_dim = X_train.shape[1]))\n",
    "    model.add(Dense(32, activation = 'relu'))\n",
    "    model.add(Dense(16, activation = 'relu'))\n",
    "    model.add(Dense(6, activation = 'softmax'))\n",
    "\n",
    "    model.compile(loss = 'categorical_crossentropy', \n",
    "                  optimizer = 'adam', \n",
    "                  metrics = ['acc'])\n",
    "    return model"
   ]
  },
  {
   "cell_type": "code",
   "execution_count": 21,
   "metadata": {},
   "outputs": [
    {
     "name": "stdout",
     "output_type": "stream",
     "text": [
      "Processing Fold # 1\n",
      "Processing Fold # 2\n",
      "Processing Fold # 3\n",
      "Processing Fold # 4\n",
      "Processing Fold # 5\n"
     ]
    }
   ],
   "source": [
    "import numpy as np\n",
    "\n",
    "k = 5\n",
    "num_val_samples = len(X_train) // k\n",
    "num_epochs = 100\n",
    "\n",
    "all_loss_histories = []\n",
    "all_val_loss_histories = []\n",
    "all_acc_histories = []\n",
    "all_val_acc_histories = []\n",
    "\n",
    "for i in range(k):\n",
    "    print('Processing Fold #', i + 1)\n",
    "    \n",
    "    val_data = X_train[i * num_val_samples: (i + 1) * num_val_samples]\n",
    "    val_targets = Y_train[i * num_val_samples: (i + 1) * num_val_samples]\n",
    "\n",
    "    partial_train_data = np.concatenate(\n",
    "        [X_train[:i * num_val_samples],\n",
    "         X_train[(i + 1) * num_val_samples:]],\n",
    "        axis = 0)\n",
    "    partial_train_targets = np.concatenate(\n",
    "        [Y_train[:i * num_val_samples],\n",
    "         Y_train[(i + 1) * num_val_samples:]],\n",
    "        axis = 0)\n",
    "    \n",
    "    model = build_model()\n",
    "    history = model.fit(partial_train_data, partial_train_targets,\n",
    "                        epochs = num_epochs, \n",
    "                        batch_size = 1, \n",
    "                        verbose = 0,\n",
    "                        validation_data=(val_data, val_targets))\n",
    "    \n",
    "    loss_history = history.history['loss']\n",
    "    all_loss_histories.append(loss_history)\n",
    "    val_loss_history = history.history['val_loss']\n",
    "    all_val_loss_histories.append(val_loss_history)\n",
    "    \n",
    "    acc_history = history.history['acc']\n",
    "    all_acc_histories.append(acc_history)\n",
    "    val_acc_history = history.history['val_acc']\n",
    "    all_val_acc_histories.append(val_acc_history)"
   ]
  },
  {
   "cell_type": "code",
   "execution_count": 22,
   "metadata": {},
   "outputs": [],
   "source": [
    "average_loss_history = [\n",
    "    np.mean([x[i] for x in all_loss_histories]) for i in range(100)]\n",
    "\n",
    "average_val_loss_history = [\n",
    "    np.mean([x[i] for x in all_val_loss_histories]) for i in range(100)]"
   ]
  },
  {
   "cell_type": "code",
   "execution_count": 23,
   "metadata": {},
   "outputs": [
    {
     "data": {
      "image/png": "[encoded data removed]",
      "text/plain": [
       "<Figure size 432x288 with 1 Axes>"
      ]
     },
     "metadata": {
      "needs_background": "light"
     },
     "output_type": "display_data"
    }
   ],
   "source": [
    "import matplotlib.pyplot as plt\n",
    "\n",
    "plt.plot(range(1, len(average_loss_history) + 1), average_loss_history)\n",
    "plt.plot(range(1, len(average_val_loss_history) + 1), average_val_loss_history)\n",
    "plt.xlabel('Epochs')\n",
    "plt.ylabel('Loss')\n",
    "plt.legend(['Train', 'Validation'], loc = 'upper left')\n",
    "plt.savefig('stars_loss3.jpg')\n",
    "plt.show()"
   ]
  },
  {
   "cell_type": "code",
   "execution_count": 24,
   "metadata": {},
   "outputs": [],
   "source": [
    "average_acc_history = [\n",
    "    np.mean([x[i] for x in all_acc_histories]) for i in range(100)]\n",
    "\n",
    "average_val_acc_history = [\n",
    "    np.mean([x[i] for x in all_val_acc_histories]) for i in range(100)]"
   ]
  },
  {
   "cell_type": "code",
   "execution_count": 25,
   "metadata": {},
   "outputs": [
    {
     "data": {
      "image/png": "[encoded data removed]",
      "text/plain": [
       "<Figure size 432x288 with 1 Axes>"
      ]
     },
     "metadata": {
      "needs_background": "light"
     },
     "output_type": "display_data"
    }
   ],
   "source": [
    "import matplotlib.pyplot as plt\n",
    "\n",
    "plt.plot(range(1, len(average_acc_history) + 1), average_acc_history)\n",
    "plt.plot(range(1, len(average_val_acc_history) + 1), average_val_acc_history)\n",
    "plt.xlabel('Epochs')\n",
    "plt.ylabel('Accuracy')\n",
    "plt.legend(['Train', 'Validation'], loc = 'lower right')\n",
    "plt.savefig('stars_acc3.jpg')\n",
    "plt.show()"
   ]
  },
  {
   "cell_type": "code",
   "execution_count": 26,
   "metadata": {},
   "outputs": [],
   "source": [
    "from keras.models import Sequential\n",
    "from keras.layers import Dense\n",
    "from keras.optimizers import Adam\n",
    "from keras.layers import Dropout\n",
    "\n",
    "def build_model():\n",
    "    model = Sequential()\n",
    "    model.add(Dense(64, activation = 'relu', \n",
    "                    input_dim = X_train.shape[1]))\n",
    "    model.add(Dropout(.2))\n",
    "    model.add(Dense(32, activation = 'relu'))\n",
    "    model.add(Dropout(.2))\n",
    "    model.add(Dense(16, activation = 'relu'))\n",
    "    model.add(Dropout(.2))\n",
    "    model.add(Dense(6, activation = 'softmax'))\n",
    "\n",
    "    model.compile(loss = 'categorical_crossentropy', \n",
    "                  optimizer = 'adam', \n",
    "                  metrics = ['acc'])\n",
    "    return model"
   ]
  },
  {
   "cell_type": "code",
   "execution_count": 27,
   "metadata": {},
   "outputs": [
    {
     "name": "stdout",
     "output_type": "stream",
     "text": [
      "Processing Fold # 1\n",
      "Processing Fold # 2\n",
      "Processing Fold # 3\n",
      "Processing Fold # 4\n",
      "Processing Fold # 5\n"
     ]
    }
   ],
   "source": [
    "import numpy as np\n",
    "\n",
    "k = 5\n",
    "num_val_samples = len(X_train) // k\n",
    "num_epochs = 100\n",
    "\n",
    "all_loss_histories = []\n",
    "all_val_loss_histories = []\n",
    "all_acc_histories = []\n",
    "all_val_acc_histories = []\n",
    "\n",
    "for i in range(k):\n",
    "    print('Processing Fold #', i + 1)\n",
    "    \n",
    "    val_data = X_train[i * num_val_samples: (i + 1) * num_val_samples]\n",
    "    val_targets = Y_train[i * num_val_samples: (i + 1) * num_val_samples]\n",
    "\n",
    "    partial_train_data = np.concatenate(\n",
    "        [X_train[:i * num_val_samples],\n",
    "         X_train[(i + 1) * num_val_samples:]],\n",
    "        axis = 0)\n",
    "    partial_train_targets = np.concatenate(\n",
    "        [Y_train[:i * num_val_samples],\n",
    "         Y_train[(i + 1) * num_val_samples:]],\n",
    "        axis = 0)\n",
    "    \n",
    "    model = build_model()\n",
    "    history = model.fit(partial_train_data, partial_train_targets,\n",
    "                        epochs = num_epochs, \n",
    "                        batch_size = 1, \n",
    "                        verbose = 0,\n",
    "                        validation_data=(val_data, val_targets))\n",
    "    \n",
    "    loss_history = history.history['loss']\n",
    "    all_loss_histories.append(loss_history)\n",
    "    val_loss_history = history.history['val_loss']\n",
    "    all_val_loss_histories.append(val_loss_history)\n",
    "    \n",
    "    acc_history = history.history['acc']\n",
    "    all_acc_histories.append(acc_history)\n",
    "    val_acc_history = history.history['val_acc']\n",
    "    all_val_acc_histories.append(val_acc_history)"
   ]
  },
  {
   "cell_type": "code",
   "execution_count": 28,
   "metadata": {},
   "outputs": [],
   "source": [
    "average_loss_history = [\n",
    "    np.mean([x[i] for x in all_loss_histories]) for i in range(100)]\n",
    "\n",
    "average_val_loss_history = [\n",
    "    np.mean([x[i] for x in all_val_loss_histories]) for i in range(100)]"
   ]
  },
  {
   "cell_type": "code",
   "execution_count": 29,
   "metadata": {},
   "outputs": [
    {
     "data": {
      "image/png": "[encoded data removed]",
      "text/plain": [
       "<Figure size 432x288 with 1 Axes>"
      ]
     },
     "metadata": {
      "needs_background": "light"
     },
     "output_type": "display_data"
    }
   ],
   "source": [
    "import matplotlib.pyplot as plt\n",
    "\n",
    "plt.plot(range(1, len(average_loss_history) + 1), average_loss_history)\n",
    "plt.plot(range(1, len(average_val_loss_history) + 1), average_val_loss_history)\n",
    "plt.xlabel('Epochs')\n",
    "plt.ylabel('Loss')\n",
    "plt.legend(['Train', 'Validation'], loc = 'upper left')\n",
    "plt.savefig('stars_loss4.jpg')\n",
    "plt.show()"
   ]
  },
  {
   "cell_type": "code",
   "execution_count": 30,
   "metadata": {},
   "outputs": [],
   "source": [
    "average_acc_history = [\n",
    "    np.mean([x[i] for x in all_acc_histories]) for i in range(100)]\n",
    "\n",
    "average_val_acc_history = [\n",
    "    np.mean([x[i] for x in all_val_acc_histories]) for i in range(100)]"
   ]
  },
  {
   "cell_type": "code",
   "execution_count": 31,
   "metadata": {},
   "outputs": [
    {
     "data": {
      "image/png": "[encoded data removed]",
      "text/plain": [
       "<Figure size 432x288 with 1 Axes>"
      ]
     },
     "metadata": {
      "needs_background": "light"
     },
     "output_type": "display_data"
    }
   ],
   "source": [
    "import matplotlib.pyplot as plt\n",
    "\n",
    "plt.plot(range(1, len(average_acc_history) + 1), average_acc_history)\n",
    "plt.plot(range(1, len(average_val_acc_history) + 1), average_val_acc_history)\n",
    "plt.xlabel('Epochs')\n",
    "plt.ylabel('Accuracy')\n",
    "plt.legend(['Train', 'Validation'], loc = 'lower right')\n",
    "plt.savefig('stars_acc4.jpg')\n",
    "plt.show()"
   ]
  },
  {
   "cell_type": "code",
   "execution_count": 32,
   "metadata": {},
   "outputs": [
    {
     "name": "stdout",
     "output_type": "stream",
     "text": [
      "Epoch 1/40\n",
      "192/192 [==============================] - 1s 7ms/step - loss: 1.6636 - acc: 0.3698\n",
      "Epoch 2/40\n",
      "192/192 [==============================] - 0s 2ms/step - loss: 1.1419 - acc: 0.5885\n",
      "Epoch 3/40\n",
      "192/192 [==============================] - 0s 2ms/step - loss: 0.9428 - acc: 0.6354\n",
      "Epoch 4/40\n",
      "192/192 [==============================] - 0s 2ms/step - loss: 0.7171 - acc: 0.6927\n",
      "Epoch 5/40\n",
      "192/192 [==============================] - 0s 2ms/step - loss: 0.5740 - acc: 0.7448\n",
      "Epoch 6/40\n",
      "192/192 [==============================] - 0s 2ms/step - loss: 0.5100 - acc: 0.7708\n",
      "Epoch 7/40\n",
      "192/192 [==============================] - 0s 2ms/step - loss: 0.4882 - acc: 0.7760\n",
      "Epoch 8/40\n",
      "192/192 [==============================] - 0s 2ms/step - loss: 0.4530 - acc: 0.7708\n",
      "Epoch 9/40\n",
      "192/192 [==============================] - 0s 2ms/step - loss: 0.4089 - acc: 0.8229\n",
      "Epoch 10/40\n",
      "192/192 [==============================] - 0s 2ms/step - loss: 0.4416 - acc: 0.7969\n",
      "Epoch 11/40\n",
      "192/192 [==============================] - 0s 2ms/step - loss: 0.3935 - acc: 0.8385\n",
      "Epoch 12/40\n",
      "192/192 [==============================] - 0s 2ms/step - loss: 0.3913 - acc: 0.8490\n",
      "Epoch 13/40\n",
      "192/192 [==============================] - 0s 2ms/step - loss: 0.3221 - acc: 0.8490\n",
      "Epoch 14/40\n",
      "192/192 [==============================] - 0s 2ms/step - loss: 0.2453 - acc: 0.9010\n",
      "Epoch 15/40\n",
      "192/192 [==============================] - 0s 2ms/step - loss: 0.3472 - acc: 0.8542\n",
      "Epoch 16/40\n",
      "192/192 [==============================] - 0s 2ms/step - loss: 0.2957 - acc: 0.8906\n",
      "Epoch 17/40\n",
      "192/192 [==============================] - 0s 2ms/step - loss: 0.2718 - acc: 0.8802\n",
      "Epoch 18/40\n",
      "192/192 [==============================] - 0s 2ms/step - loss: 0.1918 - acc: 0.9427\n",
      "Epoch 19/40\n",
      "192/192 [==============================] - 0s 2ms/step - loss: 0.2811 - acc: 0.8906\n",
      "Epoch 20/40\n",
      "192/192 [==============================] - 0s 2ms/step - loss: 0.1881 - acc: 0.9115\n",
      "Epoch 21/40\n",
      "192/192 [==============================] - 0s 2ms/step - loss: 0.2556 - acc: 0.8958\n",
      "Epoch 22/40\n",
      "192/192 [==============================] - 0s 2ms/step - loss: 0.1850 - acc: 0.9479\n",
      "Epoch 23/40\n",
      "192/192 [==============================] - 0s 2ms/step - loss: 0.2500 - acc: 0.8854\n",
      "Epoch 24/40\n",
      "192/192 [==============================] - 0s 2ms/step - loss: 0.1789 - acc: 0.9167\n",
      "Epoch 25/40\n",
      "192/192 [==============================] - 0s 2ms/step - loss: 0.2213 - acc: 0.8906\n",
      "Epoch 26/40\n",
      "192/192 [==============================] - 0s 2ms/step - loss: 0.1980 - acc: 0.9479\n",
      "Epoch 27/40\n",
      "192/192 [==============================] - 0s 2ms/step - loss: 0.1324 - acc: 0.9479\n",
      "Epoch 28/40\n",
      "192/192 [==============================] - 0s 2ms/step - loss: 0.1596 - acc: 0.9427\n",
      "Epoch 29/40\n",
      "192/192 [==============================] - 0s 2ms/step - loss: 0.1133 - acc: 0.9635\n",
      "Epoch 30/40\n",
      "192/192 [==============================] - 0s 2ms/step - loss: 0.1883 - acc: 0.9323\n",
      "Epoch 31/40\n",
      "192/192 [==============================] - 0s 2ms/step - loss: 0.0708 - acc: 0.9844\n",
      "Epoch 32/40\n",
      "192/192 [==============================] - 0s 2ms/step - loss: 0.0917 - acc: 0.9531\n",
      "Epoch 33/40\n",
      "192/192 [==============================] - 0s 2ms/step - loss: 0.1650 - acc: 0.9531\n",
      "Epoch 34/40\n",
      "192/192 [==============================] - 0s 2ms/step - loss: 0.0740 - acc: 0.9844\n",
      "Epoch 35/40\n",
      "192/192 [==============================] - 0s 2ms/step - loss: 0.0677 - acc: 0.9792\n",
      "Epoch 36/40\n",
      "192/192 [==============================] - 0s 2ms/step - loss: 0.1025 - acc: 0.9531\n",
      "Epoch 37/40\n",
      "192/192 [==============================] - 0s 2ms/step - loss: 0.0681 - acc: 0.9688\n",
      "Epoch 38/40\n",
      "192/192 [==============================] - 0s 2ms/step - loss: 0.0960 - acc: 0.9688\n",
      "Epoch 39/40\n",
      "192/192 [==============================] - 0s 2ms/step - loss: 0.0769 - acc: 0.9792\n",
      "Epoch 40/40\n",
      "192/192 [==============================] - 0s 2ms/step - loss: 0.0489 - acc: 0.9740\n"
     ]
    }
   ],
   "source": [
    "model = build_model()\n",
    "\n",
    "history = model.fit(X_train, Y_train, \n",
    "                    epochs = 40, \n",
    "                    batch_size = 1)"
   ]
  },
  {
   "cell_type": "code",
   "execution_count": 33,
   "metadata": {},
   "outputs": [
    {
     "name": "stdout",
     "output_type": "stream",
     "text": [
      "48/48 [==============================] - 0s 7ms/step\n",
      "The accuracy for this model is:  1.0\n"
     ]
    }
   ],
   "source": [
    "loss, acc = model.evaluate(X_test, Y_test)\n",
    "print('The accuracy for this model is: ', round(acc, 3))"
   ]
  }
 ],
 "metadata": {
  "kernelspec": {
   "display_name": "Python 3",
   "language": "python",
   "name": "python3"
  },
  "language_info": {
   "codemirror_mode": {
    "name": "ipython",
    "version": 3
   },
   "file_extension": ".py",
   "mimetype": "text/x-python",
   "name": "python",
   "nbconvert_exporter": "python",
   "pygments_lexer": "ipython3",
   "version": "3.7.3"
  }
 },
 "nbformat": 4,
 "nbformat_minor": 2
}
